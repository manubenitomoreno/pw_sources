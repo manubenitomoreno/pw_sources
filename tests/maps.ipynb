{
 "cells": [
  {
   "cell_type": "code",
   "execution_count": 1,
   "metadata": {},
   "outputs": [],
   "source": [
    "import os\n",
    "import pandas as pd\n",
    "import geopandas as gpd\n",
    "from shapely.wkt import loads\n",
    "import matplotlib.pyplot as plt\n",
    "import matplotlib.colors as mcolors\n",
    "import matplotlib.font_manager\n",
    "import seaborn as sn\n",
    "from scipy.stats import zscore\n",
    "import numpy as np\n",
    "#matplotlib.font_manager.findSystemFonts(fontpaths=None, fontext='ttf')\n",
    "sn.set_style(\"white\")\n",
    "\n",
    "from scipy.spatial import cKDTree\n",
    "\n",
    "csfont = {'fontname':'Adobe Garamond Pro','fontsize':30}\n",
    "hfont = {'fontname':'Adobe Garamond Pro','fontsize':12}"
   ]
  },
  {
   "cell_type": "code",
   "execution_count": 2,
   "metadata": {},
   "outputs": [],
   "source": [
    "df = pd.read_csv(r\"G:\\Mi unidad\\walknet_datalake\\sources\\edm2018\\level1\\level1_edm2018.csv\",sep=\",\")\n",
    "df = df[df['ZT1259'].str.startswith((\"005\", \"006\", \"007\", \"022\", \"026\", \"045\", \"049\", \"058\", \"065\", \"073\", \"074\", \"080\", \"084\", \"092\", \"104\", \"106\", \"113\", \"115\", \"127\", \"130\", \"134\", \"148\", \"167\", \"176\", \"177\", \"181\", \"184\", \"079\",\"123\",\"903\"))]\n",
    "df['CODMUNI'] = df['CODMUNI'].astype(str).str.zfill(3)\n",
    "df['edge_id'] = df['VORIZT1259']+\"|\"+df['VDESZT1259']\n",
    "relations = df['edge_id'].unique()\n",
    "df.drop_duplicates(subset=['ID_HOGAR','ID_IND','ID_VIAJE'],inplace=True)\n",
    "df = df[df['VDES']!='Casa']\n",
    "df = df[df['C8ACTIV']!='Otra situación']\n",
    "#df = df[df['VORIZT1259'] != '0']"
   ]
  },
  {
   "cell_type": "code",
   "execution_count": 3,
   "metadata": {},
   "outputs": [
    {
     "name": "stderr",
     "output_type": "stream",
     "text": [
      "c:\\Documents\\Github\\pw_sources\\env\\Lib\\site-packages\\pyogrio\\raw.py:196: RuntimeWarning: G:\\Mi unidad\\walknet_datalake\\sources\\edm_geo\\level0\\ZonificacionZT1259.shp contains polygon(s) with rings with invalid winding order. Autocorrecting them, but that shapefile should be corrected using ogr2ogr for example.\n",
      "  return ogr_read(\n"
     ]
    }
   ],
   "source": [
    "gdf = gpd.read_file(r\"G:\\Mi unidad\\walknet_datalake\\sources\\edm_geo\\level0\\ZonificacionZT1259.shp\")\n",
    "gdf = gdf[gdf['ZT1259'].str.startswith((\"005\", \"006\", \"007\", \"022\", \"026\", \"045\", \"049\", \"058\", \"065\", \"073\", \"074\", \"080\", \"084\", \"092\", \"104\", \"106\", \"113\", \"115\", \"127\", \"130\", \"134\", \"148\", \"167\", \"176\", \"177\", \"181\", \"184\", \"079\",\"123\",\"903\"))]\n",
    "#gdf = gdf[gdf['ZT1259'].str.startswith((\"079\"))]\n",
    "gdf = gdf.to_crs(25830)"
   ]
  },
  {
   "cell_type": "code",
   "execution_count": 4,
   "metadata": {},
   "outputs": [
    {
     "name": "stderr",
     "output_type": "stream",
     "text": [
      "C:\\Users\\katul\\AppData\\Local\\Temp\\ipykernel_4376\\2921418814.py:3: DeprecationWarning: The 'unary_union' attribute is deprecated, use the 'union_all()' method instead.\n",
      "  hexa = hexa[hexa.intersects(gdf['geometry'].unary_union)]\n"
     ]
    }
   ],
   "source": [
    "hexa = gpd.read_file(r\"G:\\Mi unidad\\walknet_datalake\\temp\\hexagon_grid.gpkg\")\n",
    "gdf['geometry'] = gdf['geometry'].buffer(0)\n",
    "hexa = hexa[hexa.intersects(gdf['geometry'].unary_union)]"
   ]
  },
  {
   "cell_type": "code",
   "execution_count": 5,
   "metadata": {},
   "outputs": [],
   "source": [
    "datasets = [\n",
    "r\"G:\\Mi unidad\\walknet_datalake\\extractions\\pois_network_centrality_300.csv\",\n",
    "r\"G:\\Mi unidad\\walknet_datalake\\extractions\\pois_network_centrality_600.csv\",\n",
    "r\"G:\\Mi unidad\\walknet_datalake\\extractions\\pois_network_centrality_900.csv\",\n",
    "r\"G:\\Mi unidad\\walknet_datalake\\extractions\\pois_design_300.csv\",\n",
    "r\"G:\\Mi unidad\\walknet_datalake\\extractions\\pois_design_600.csv\",\n",
    "r\"G:\\Mi unidad\\walknet_datalake\\extractions\\pois_design_900.csv\",\n",
    "r\"G:\\Mi unidad\\walknet_datalake\\extractions\\pois_other_300.csv\",\n",
    "r\"G:\\Mi unidad\\walknet_datalake\\extractions\\pois_other_600.csv\",\n",
    "r\"G:\\Mi unidad\\walknet_datalake\\extractions\\pois_other_900.csv\",\n",
    "r\"G:\\Mi unidad\\walknet_datalake\\extractions\\pois_walkable_trips_300.csv\",\n",
    "r\"G:\\Mi unidad\\walknet_datalake\\extractions\\pois_walkable_trips_600.csv\",\n",
    "r\"G:\\Mi unidad\\walknet_datalake\\extractions\\pois_walkable_trips_900.csv\",\n",
    "r\"G:\\Mi unidad\\walknet_datalake\\extractions\\pois_transacc_300.csv\",\n",
    "r\"G:\\Mi unidad\\walknet_datalake\\extractions\\pois_transacc_600.csv\",\n",
    "r\"G:\\Mi unidad\\walknet_datalake\\extractions\\pois_transacc_900.csv\",\n",
    "r\"G:\\Mi unidad\\walknet_datalake\\extractions\\pois_parkacc_300.csv\",\n",
    "r\"G:\\Mi unidad\\walknet_datalake\\extractions\\pois_parkacc_600.csv\",\n",
    "r\"G:\\Mi unidad\\walknet_datalake\\extractions\\pois_parkacc_900.csv\",\n",
    "r\"G:\\Mi unidad\\walknet_datalake\\extractions\\pois_far_localacc_300.csv\",\n",
    "r\"G:\\Mi unidad\\walknet_datalake\\extractions\\pois_far_localacc_600.csv\",\n",
    "r\"G:\\Mi unidad\\walknet_datalake\\extractions\\pois_far_localacc_900.csv\"]\n"
   ]
  },
  {
   "cell_type": "code",
   "execution_count": 6,
   "metadata": {},
   "outputs": [],
   "source": [
    "data = {d.split(\"\\\\\")[-1].split(\".\")[0]:pd.read_csv(d) for d in datasets}"
   ]
  },
  {
   "cell_type": "code",
   "execution_count": 7,
   "metadata": {},
   "outputs": [],
   "source": [
    "for k,v in data.items():\n",
    "    data[k] = v[['poi_id']+[c for c in v.columns if not c in ['poi_id','tz_id','local_population','geometry']]]\n",
    "    #.set_index('poi_id')\n",
    "    "
   ]
  },
  {
   "cell_type": "code",
   "execution_count": 8,
   "metadata": {},
   "outputs": [],
   "source": [
    "for k,v in data.items():\n",
    "    if 'pois_parkacc' in k:\n",
    "        data[k] = pd.concat([v[v['park_type'] == t].set_index('poi_id')['unique_parks_count'].rename(f'acc_parks_{t}') for t in [\"S\",\"M\",\"L\"]],axis=1)\n",
    "    else: data[k] = v.set_index('poi_id')\n"
   ]
  },
  {
   "cell_type": "code",
   "execution_count": 9,
   "metadata": {},
   "outputs": [],
   "source": [
    "template = pd.read_csv(r\"G:\\Mi unidad\\walknet_datalake\\extractions\\fn_pois_template.csv\").set_index('poi_id')"
   ]
  },
  {
   "cell_type": "code",
   "execution_count": 10,
   "metadata": {},
   "outputs": [],
   "source": [
    "template['geometry'] = template['geometry'].apply(loads)\n",
    "template = gpd.GeoDataFrame(template, geometry='geometry', crs= 25830)"
   ]
  },
  {
   "cell_type": "code",
   "execution_count": 11,
   "metadata": {},
   "outputs": [],
   "source": [
    "cols = ['tz_id', 'node_id', 'local_population', \n",
    "\n",
    "'dem_income', 'dem_household_size', 'dem_mean_age',\n",
    "'dem_population_18', 'dem_population_65',\n",
    "\n",
    "'acc_care_other','acc_care_public',\n",
    "'acc_school_superior', 'acc_school_basic',\n",
    "'acc_leisure_bar', 'acc_leisure_cultural', 'acc_leisure_shows',\n",
    "'acc_shopping_mall', 'acc_shopping_market', 'acc_shopping_alone',\n",
    "'acc_sport_other',\n",
    "'acc_transportation',\n",
    "'acc_parks_S', 'acc_parks_M', 'acc_parks_L',\n",
    "'dens_pop_total', 'dens_hou_total',\n",
    "'dens_far', 'dens_far_ag',\n",
    "'den_perc_unbuilt', 'dens_built_total',\n",
    "'den_perc_housing_sfr','den_perc_housing_ch',\n",
    "'den_perc_care_other', 'den_perc_care_public',\n",
    "'perc_far_school_superior', 'den_perc_school_basic',\n",
    "'den_perc_leisure_bar', 'den_perc_leisure_cultural',\n",
    "'den_perc_leisure_shows', 'den_perc_shopping_mall',\n",
    "'den_perc_shopping_market', 'den_perc_shopping_alone',\n",
    "'den_perc_sport_other', 'den_perc_office', 'den_perc_industrial',\n",
    "'den_perc_storage', 'den_perc_parking', 'den_perc_hotel',\n",
    "'den_perc_religious', 'den_perc_infra', \n",
    "\n",
    "'div_wt_care', 'div_ut_care', 'div_wt_school', 'div_ut_school',\n",
    "'div_wt_leisure', 'div_ut_leisure', 'div_wt_shopping',\n",
    "'div_ut_shopping', 'div_wt_sport', 'div_ut_sport', \n",
    "\n",
    "'des_mean_degree', 'des_straightness', #'des_betweenness',\n",
    "'des_total_length','des_block_length', 'des_culdesac', 'des_slope','des_building_age',\n",
    "       \n",
    "'geometry']"
   ]
  },
  {
   "cell_type": "code",
   "execution_count": 12,
   "metadata": {},
   "outputs": [],
   "source": [
    "btw = gpd.read_file(r\"G:\\Mi unidad\\walknet_datalake\\temp\\betweenness.gpkg\")[['degree','closeness','betweenness','eigenvector','geometry']].rename(columns ={'degree':'des_degree','closeness':'des_closeness','betweenness':'des_betweenness','eigenvector':'des_eigenvector'})"
   ]
  },
  {
   "cell_type": "code",
   "execution_count": null,
   "metadata": {},
   "outputs": [
    {
     "ename": "KeyError",
     "evalue": "\"['perc_far_school_superior'] not in index\"",
     "output_type": "error",
     "traceback": [
      "\u001b[1;31m---------------------------------------------------------------------------\u001b[0m",
      "\u001b[1;31mKeyError\u001b[0m                                  Traceback (most recent call last)",
      "Cell \u001b[1;32mIn[13], line 9\u001b[0m\n\u001b[0;32m      1\u001b[0m df_300 \u001b[38;5;241m=\u001b[39m pd\u001b[38;5;241m.\u001b[39mmerge(\n\u001b[0;32m      2\u001b[0m     template,\n\u001b[0;32m      3\u001b[0m     pd\u001b[38;5;241m.\u001b[39mconcat([v \u001b[38;5;28;01mfor\u001b[39;00m k,v \u001b[38;5;129;01min\u001b[39;00m data\u001b[38;5;241m.\u001b[39mitems() \u001b[38;5;28;01mif\u001b[39;00m \u001b[38;5;124m\"\u001b[39m\u001b[38;5;124m300\u001b[39m\u001b[38;5;124m\"\u001b[39m \u001b[38;5;129;01min\u001b[39;00m k],axis\u001b[38;5;241m=\u001b[39m\u001b[38;5;241m1\u001b[39m),\n\u001b[0;32m      4\u001b[0m     left_index\u001b[38;5;241m=\u001b[39m\u001b[38;5;28;01mTrue\u001b[39;00m,right_index\u001b[38;5;241m=\u001b[39m\u001b[38;5;28;01mTrue\u001b[39;00m, how\u001b[38;5;241m=\u001b[39m\u001b[38;5;124m'\u001b[39m\u001b[38;5;124mleft\u001b[39m\u001b[38;5;124m'\u001b[39m)[cols]\u001b[38;5;241m.\u001b[39mrename(columns \u001b[38;5;241m=\u001b[39m {\u001b[38;5;124m'\u001b[39m\u001b[38;5;124mperc_far_school_superior\u001b[39m\u001b[38;5;124m'\u001b[39m:\u001b[38;5;124m'\u001b[39m\u001b[38;5;124mden_perc_school_superior\u001b[39m\u001b[38;5;124m'\u001b[39m})\n\u001b[0;32m      5\u001b[0m df_600 \u001b[38;5;241m=\u001b[39m pd\u001b[38;5;241m.\u001b[39mmerge(\n\u001b[0;32m      6\u001b[0m     template,\n\u001b[0;32m      7\u001b[0m     pd\u001b[38;5;241m.\u001b[39mconcat([v \u001b[38;5;28;01mfor\u001b[39;00m k,v \u001b[38;5;129;01min\u001b[39;00m data\u001b[38;5;241m.\u001b[39mitems() \u001b[38;5;28;01mif\u001b[39;00m \u001b[38;5;124m\"\u001b[39m\u001b[38;5;124m600\u001b[39m\u001b[38;5;124m\"\u001b[39m \u001b[38;5;129;01min\u001b[39;00m k],axis\u001b[38;5;241m=\u001b[39m\u001b[38;5;241m1\u001b[39m),\n\u001b[0;32m      8\u001b[0m     left_index\u001b[38;5;241m=\u001b[39m\u001b[38;5;28;01mTrue\u001b[39;00m,right_index\u001b[38;5;241m=\u001b[39m\u001b[38;5;28;01mTrue\u001b[39;00m, how\u001b[38;5;241m=\u001b[39m\u001b[38;5;124m'\u001b[39m\u001b[38;5;124mleft\u001b[39m\u001b[38;5;124m'\u001b[39m)[cols]\u001b[38;5;241m.\u001b[39mrename(columns \u001b[38;5;241m=\u001b[39m {\u001b[38;5;124m'\u001b[39m\u001b[38;5;124mperc_far_school_superior\u001b[39m\u001b[38;5;124m'\u001b[39m:\u001b[38;5;124m'\u001b[39m\u001b[38;5;124mden_perc_school_superior\u001b[39m\u001b[38;5;124m'\u001b[39m})\n\u001b[1;32m----> 9\u001b[0m df_900 \u001b[38;5;241m=\u001b[39m \u001b[43mpd\u001b[49m\u001b[38;5;241;43m.\u001b[39;49m\u001b[43mmerge\u001b[49m\u001b[43m(\u001b[49m\n\u001b[0;32m     10\u001b[0m \u001b[43m    \u001b[49m\u001b[43mtemplate\u001b[49m\u001b[43m,\u001b[49m\n\u001b[0;32m     11\u001b[0m \u001b[43m    \u001b[49m\u001b[43mpd\u001b[49m\u001b[38;5;241;43m.\u001b[39;49m\u001b[43mconcat\u001b[49m\u001b[43m(\u001b[49m\u001b[43m[\u001b[49m\u001b[43mv\u001b[49m\u001b[43m \u001b[49m\u001b[38;5;28;43;01mfor\u001b[39;49;00m\u001b[43m \u001b[49m\u001b[43mk\u001b[49m\u001b[43m,\u001b[49m\u001b[43mv\u001b[49m\u001b[43m \u001b[49m\u001b[38;5;129;43;01min\u001b[39;49;00m\u001b[43m \u001b[49m\u001b[43mdata\u001b[49m\u001b[38;5;241;43m.\u001b[39;49m\u001b[43mitems\u001b[49m\u001b[43m(\u001b[49m\u001b[43m)\u001b[49m\u001b[43m \u001b[49m\u001b[38;5;28;43;01mif\u001b[39;49;00m\u001b[43m \u001b[49m\u001b[38;5;124;43m\"\u001b[39;49m\u001b[38;5;124;43m900\u001b[39;49m\u001b[38;5;124;43m\"\u001b[39;49m\u001b[43m \u001b[49m\u001b[38;5;129;43;01min\u001b[39;49;00m\u001b[43m \u001b[49m\u001b[43mk\u001b[49m\u001b[43m]\u001b[49m\u001b[43m,\u001b[49m\u001b[43maxis\u001b[49m\u001b[38;5;241;43m=\u001b[39;49m\u001b[38;5;241;43m1\u001b[39;49m\u001b[43m)\u001b[49m\u001b[43m,\u001b[49m\n\u001b[0;32m     12\u001b[0m \u001b[43m    \u001b[49m\u001b[43mleft_index\u001b[49m\u001b[38;5;241;43m=\u001b[39;49m\u001b[38;5;28;43;01mTrue\u001b[39;49;00m\u001b[43m,\u001b[49m\u001b[43mright_index\u001b[49m\u001b[38;5;241;43m=\u001b[39;49m\u001b[38;5;28;43;01mTrue\u001b[39;49;00m\u001b[43m,\u001b[49m\u001b[43m \u001b[49m\u001b[43mhow\u001b[49m\u001b[38;5;241;43m=\u001b[39;49m\u001b[38;5;124;43m'\u001b[39;49m\u001b[38;5;124;43mleft\u001b[39;49m\u001b[38;5;124;43m'\u001b[39;49m\u001b[43m)\u001b[49m\u001b[43m[\u001b[49m\u001b[43mcols\u001b[49m\u001b[43m]\u001b[49m\u001b[38;5;241m.\u001b[39mrename(columns \u001b[38;5;241m=\u001b[39m {\u001b[38;5;124m'\u001b[39m\u001b[38;5;124mperc_far_school_superior\u001b[39m\u001b[38;5;124m'\u001b[39m:\u001b[38;5;124m'\u001b[39m\u001b[38;5;124mden_perc_school_superior\u001b[39m\u001b[38;5;124m'\u001b[39m})\n",
      "File \u001b[1;32mc:\\Documents\\Github\\pw_sources\\env\\Lib\\site-packages\\geopandas\\geodataframe.py:1750\u001b[0m, in \u001b[0;36mGeoDataFrame.__getitem__\u001b[1;34m(self, key)\u001b[0m\n\u001b[0;32m   1744\u001b[0m \u001b[38;5;28;01mdef\u001b[39;00m \u001b[38;5;21m__getitem__\u001b[39m(\u001b[38;5;28mself\u001b[39m, key):\n\u001b[0;32m   1745\u001b[0m \u001b[38;5;250m    \u001b[39m\u001b[38;5;124;03m\"\"\"\u001b[39;00m\n\u001b[0;32m   1746\u001b[0m \u001b[38;5;124;03m    If the result is a column containing only 'geometry', return a\u001b[39;00m\n\u001b[0;32m   1747\u001b[0m \u001b[38;5;124;03m    GeoSeries. If it's a DataFrame with any columns of GeometryDtype,\u001b[39;00m\n\u001b[0;32m   1748\u001b[0m \u001b[38;5;124;03m    return a GeoDataFrame.\u001b[39;00m\n\u001b[0;32m   1749\u001b[0m \u001b[38;5;124;03m    \"\"\"\u001b[39;00m\n\u001b[1;32m-> 1750\u001b[0m     result \u001b[38;5;241m=\u001b[39m \u001b[38;5;28;43msuper\u001b[39;49m\u001b[43m(\u001b[49m\u001b[43m)\u001b[49m\u001b[38;5;241;43m.\u001b[39;49m\u001b[38;5;21;43m__getitem__\u001b[39;49m\u001b[43m(\u001b[49m\u001b[43mkey\u001b[49m\u001b[43m)\u001b[49m\n\u001b[0;32m   1751\u001b[0m     \u001b[38;5;66;03m# Custom logic to avoid waiting for pandas GH51895\u001b[39;00m\n\u001b[0;32m   1752\u001b[0m     \u001b[38;5;66;03m# result is not geometry dtype for multi-indexes\u001b[39;00m\n\u001b[0;32m   1753\u001b[0m     \u001b[38;5;28;01mif\u001b[39;00m (\n\u001b[0;32m   1754\u001b[0m         pd\u001b[38;5;241m.\u001b[39mapi\u001b[38;5;241m.\u001b[39mtypes\u001b[38;5;241m.\u001b[39mis_scalar(key)\n\u001b[0;32m   1755\u001b[0m         \u001b[38;5;129;01mand\u001b[39;00m key \u001b[38;5;241m==\u001b[39m \u001b[38;5;124m\"\u001b[39m\u001b[38;5;124m\"\u001b[39m\n\u001b[1;32m   (...)\u001b[0m\n\u001b[0;32m   1758\u001b[0m         \u001b[38;5;129;01mand\u001b[39;00m \u001b[38;5;129;01mnot\u001b[39;00m is_geometry_type(result)\n\u001b[0;32m   1759\u001b[0m     ):\n",
      "File \u001b[1;32mc:\\Documents\\Github\\pw_sources\\env\\Lib\\site-packages\\pandas\\core\\frame.py:4108\u001b[0m, in \u001b[0;36mDataFrame.__getitem__\u001b[1;34m(self, key)\u001b[0m\n\u001b[0;32m   4106\u001b[0m     \u001b[38;5;28;01mif\u001b[39;00m is_iterator(key):\n\u001b[0;32m   4107\u001b[0m         key \u001b[38;5;241m=\u001b[39m \u001b[38;5;28mlist\u001b[39m(key)\n\u001b[1;32m-> 4108\u001b[0m     indexer \u001b[38;5;241m=\u001b[39m \u001b[38;5;28;43mself\u001b[39;49m\u001b[38;5;241;43m.\u001b[39;49m\u001b[43mcolumns\u001b[49m\u001b[38;5;241;43m.\u001b[39;49m\u001b[43m_get_indexer_strict\u001b[49m\u001b[43m(\u001b[49m\u001b[43mkey\u001b[49m\u001b[43m,\u001b[49m\u001b[43m \u001b[49m\u001b[38;5;124;43m\"\u001b[39;49m\u001b[38;5;124;43mcolumns\u001b[39;49m\u001b[38;5;124;43m\"\u001b[39;49m\u001b[43m)\u001b[49m[\u001b[38;5;241m1\u001b[39m]\n\u001b[0;32m   4110\u001b[0m \u001b[38;5;66;03m# take() does not accept boolean indexers\u001b[39;00m\n\u001b[0;32m   4111\u001b[0m \u001b[38;5;28;01mif\u001b[39;00m \u001b[38;5;28mgetattr\u001b[39m(indexer, \u001b[38;5;124m\"\u001b[39m\u001b[38;5;124mdtype\u001b[39m\u001b[38;5;124m\"\u001b[39m, \u001b[38;5;28;01mNone\u001b[39;00m) \u001b[38;5;241m==\u001b[39m \u001b[38;5;28mbool\u001b[39m:\n",
      "File \u001b[1;32mc:\\Documents\\Github\\pw_sources\\env\\Lib\\site-packages\\pandas\\core\\indexes\\base.py:6200\u001b[0m, in \u001b[0;36mIndex._get_indexer_strict\u001b[1;34m(self, key, axis_name)\u001b[0m\n\u001b[0;32m   6197\u001b[0m \u001b[38;5;28;01melse\u001b[39;00m:\n\u001b[0;32m   6198\u001b[0m     keyarr, indexer, new_indexer \u001b[38;5;241m=\u001b[39m \u001b[38;5;28mself\u001b[39m\u001b[38;5;241m.\u001b[39m_reindex_non_unique(keyarr)\n\u001b[1;32m-> 6200\u001b[0m \u001b[38;5;28;43mself\u001b[39;49m\u001b[38;5;241;43m.\u001b[39;49m\u001b[43m_raise_if_missing\u001b[49m\u001b[43m(\u001b[49m\u001b[43mkeyarr\u001b[49m\u001b[43m,\u001b[49m\u001b[43m \u001b[49m\u001b[43mindexer\u001b[49m\u001b[43m,\u001b[49m\u001b[43m \u001b[49m\u001b[43maxis_name\u001b[49m\u001b[43m)\u001b[49m\n\u001b[0;32m   6202\u001b[0m keyarr \u001b[38;5;241m=\u001b[39m \u001b[38;5;28mself\u001b[39m\u001b[38;5;241m.\u001b[39mtake(indexer)\n\u001b[0;32m   6203\u001b[0m \u001b[38;5;28;01mif\u001b[39;00m \u001b[38;5;28misinstance\u001b[39m(key, Index):\n\u001b[0;32m   6204\u001b[0m     \u001b[38;5;66;03m# GH 42790 - Preserve name from an Index\u001b[39;00m\n",
      "File \u001b[1;32mc:\\Documents\\Github\\pw_sources\\env\\Lib\\site-packages\\pandas\\core\\indexes\\base.py:6252\u001b[0m, in \u001b[0;36mIndex._raise_if_missing\u001b[1;34m(self, key, indexer, axis_name)\u001b[0m\n\u001b[0;32m   6249\u001b[0m     \u001b[38;5;28;01mraise\u001b[39;00m \u001b[38;5;167;01mKeyError\u001b[39;00m(\u001b[38;5;124mf\u001b[39m\u001b[38;5;124m\"\u001b[39m\u001b[38;5;124mNone of [\u001b[39m\u001b[38;5;132;01m{\u001b[39;00mkey\u001b[38;5;132;01m}\u001b[39;00m\u001b[38;5;124m] are in the [\u001b[39m\u001b[38;5;132;01m{\u001b[39;00maxis_name\u001b[38;5;132;01m}\u001b[39;00m\u001b[38;5;124m]\u001b[39m\u001b[38;5;124m\"\u001b[39m)\n\u001b[0;32m   6251\u001b[0m not_found \u001b[38;5;241m=\u001b[39m \u001b[38;5;28mlist\u001b[39m(ensure_index(key)[missing_mask\u001b[38;5;241m.\u001b[39mnonzero()[\u001b[38;5;241m0\u001b[39m]]\u001b[38;5;241m.\u001b[39munique())\n\u001b[1;32m-> 6252\u001b[0m \u001b[38;5;28;01mraise\u001b[39;00m \u001b[38;5;167;01mKeyError\u001b[39;00m(\u001b[38;5;124mf\u001b[39m\u001b[38;5;124m\"\u001b[39m\u001b[38;5;132;01m{\u001b[39;00mnot_found\u001b[38;5;132;01m}\u001b[39;00m\u001b[38;5;124m not in index\u001b[39m\u001b[38;5;124m\"\u001b[39m)\n",
      "\u001b[1;31mKeyError\u001b[0m: \"['perc_far_school_superior'] not in index\""
     ]
    }
   ],
   "source": [
    "df_300 = pd.merge(\n",
    "    template,\n",
    "    pd.concat([v for k,v in data.items() if \"300\" in k],axis=1),\n",
    "    left_index=True,right_index=True, how='left')[cols]\n",
    "df_600 = pd.merge(\n",
    "    template,\n",
    "    pd.concat([v for k,v in data.items() if \"600\" in k],axis=1),\n",
    "    left_index=True,right_index=True, how='left')[cols]\n",
    "df_900 = pd.merge(\n",
    "    template,\n",
    "    pd.concat([v for k,v in data.items() if \"900\" in k],axis=1),\n",
    "    left_index=True,right_index=True, how='left')[cols]"
   ]
  },
  {
   "cell_type": "code",
   "execution_count": null,
   "metadata": {},
   "outputs": [],
   "source": [
    "df_300 = df_300[df_300['local_population'] > 0]\n",
    "df_600 = df_600[df_600['local_population'] > 0]\n",
    "df_900 = df_900[df_900['local_population'] > 0]"
   ]
  },
  {
   "cell_type": "code",
   "execution_count": null,
   "metadata": {},
   "outputs": [],
   "source": [
    "def join_by_nearest(gdf1,gdf2):\n",
    "    # Suponiendo que gdf1 y gdf2 son tus GeoDataFrames de puntos\n",
    "    gdf1_coords = gdf1.geometry.apply(lambda geom: (geom.x, geom.y)).tolist()\n",
    "    gdf2_coords = gdf2.geometry.apply(lambda geom: (geom.x, geom.y)).tolist()\n",
    "\n",
    "    # Crear árboles para ambas capas\n",
    "    tree_gdf1 = cKDTree(gdf1_coords)\n",
    "    tree_gdf2 = cKDTree(gdf2_coords)\n",
    "\n",
    "    # Buscar los puntos más cercanos en gdf2 para cada punto en gdf1\n",
    "    distances, indices = tree_gdf1.query(gdf2_coords, k=1)\n",
    "\n",
    "    # Filtrar índices que estén fuera de los límites\n",
    "    valid_indices = [i for i in range(len(indices)) if indices[i] < len(gdf1)]\n",
    "\n",
    "    # Crear un DataFrame con resultados válidos\n",
    "    results = pd.DataFrame({\n",
    "        'gdf1_index': [indices[i] for i in valid_indices],\n",
    "        'gdf2_index': valid_indices,\n",
    "        'distance': [distances[i] for i in valid_indices]\n",
    "    })\n",
    "\n",
    "    # Verificar que no haya duplicados en la relación 1 a 1\n",
    "    duplicated_gdf1 = results.duplicated(subset='gdf1_index', keep=False)\n",
    "    duplicated_gdf2 = results.duplicated(subset='gdf2_index', keep=False)\n",
    "\n",
    "    if not duplicated_gdf1.any() and not duplicated_gdf2.any():\n",
    "        print(\"Relación 1 a 1 verificada\")\n",
    "    else:\n",
    "        print(\"Se encontraron duplicados, la relación no es 1 a 1\")\n",
    "\n",
    "    # Unir los GeoDataFrames usando los índices válidos obtenidos\n",
    "    gdf1_matched = gdf1.iloc[results['gdf1_index']].reset_index(drop=True)\n",
    "    gdf2_matched = gdf2.iloc[results['gdf2_index']].reset_index(drop=True)\n",
    "\n",
    "    # Resultado unido\n",
    "    return gdf1_matched.join(gdf2_matched, lsuffix='', rsuffix='_gdf2')\n"
   ]
  },
  {
   "cell_type": "code",
   "execution_count": null,
   "metadata": {},
   "outputs": [],
   "source": [
    "df_300 = join_by_nearest(df_300,btw)#.drop('geometry_gdf2')\n",
    "df_600 = join_by_nearest(df_600,btw)\n",
    "df_900 = join_by_nearest(df_900,btw)"
   ]
  },
  {
   "cell_type": "code",
   "execution_count": null,
   "metadata": {},
   "outputs": [],
   "source": [
    "df_300 = df_300.set_crs(25830)\n",
    "df_600 = df_600.set_crs(25830)\n",
    "df_900 = df_900.set_crs(25830)"
   ]
  },
  {
   "cell_type": "code",
   "execution_count": null,
   "metadata": {},
   "outputs": [],
   "source": [
    "df_900"
   ]
  },
  {
   "cell_type": "code",
   "execution_count": null,
   "metadata": {},
   "outputs": [],
   "source": [
    "hexa.rename(columns = {'id':'hex_id'}, inplace=True)"
   ]
  },
  {
   "cell_type": "code",
   "execution_count": null,
   "metadata": {},
   "outputs": [],
   "source": [
    "def join_to_hexa(df,hexa):\n",
    "    gdf_hex_joined = gpd.sjoin(df, hexa, how=\"inner\", predicate=\"intersects\")\n",
    "\n",
    "    # Verificar que 'hex_id' esté en el resultado y eliminar valores nulos si los hay\n",
    "    if 'hex_id' not in gdf_hex_joined.columns:\n",
    "        gdf_hex_joined = gdf_hex_joined.rename(columns={'index_right': 'hex_id'})\n",
    "\n",
    "    gdf_hex_joined = gdf_hex_joined.dropna(subset=['hex_id'])\n",
    "\n",
    "    # Excluir la columna 'geometry' al definir las columnas para el promedio ponderado\n",
    "    columns_to_average = [col for col in gdf_hex_joined.columns if col not in ['geometry', 'node_id', 'tz_id', 'local_population', 'geometry_gdf2', 'hex_id', 'id', 'left', 'top', 'right', 'bottom', 'row_index', 'col_index']]\n",
    "\n",
    "    # Función para calcular el promedio ponderado\n",
    "    def weighted_average(group):\n",
    "        weights = group['local_population']\n",
    "        return pd.Series({\n",
    "            col: (group[col] * weights).sum() / weights.sum() for col in columns_to_average\n",
    "        })\n",
    "\n",
    "    # Agrupar por el ID de hexágono y calcular el promedio ponderado para cada columna\n",
    "    hex_aggregated = gdf_hex_joined.groupby('hex_id')[columns_to_average].mean() #.apply(weighted_average).reset_index()\n",
    "\n",
    "    # Unir los resultados con la geometría de la cuadrícula hexagonal\n",
    "    return hexa[['hex_id', 'geometry']].merge(hex_aggregated, on='hex_id', how='left')\n"
   ]
  },
  {
   "cell_type": "code",
   "execution_count": null,
   "metadata": {},
   "outputs": [],
   "source": [
    "def agg_tzs(df):\n",
    "    df = df[df['local_population']!=0]\n",
    "    # Excluir las columnas no deseadas al definir las columnas para el promedio ponderado\n",
    "    columns_to_average = [col for col in df.columns if col not in ['geometry', 'node_id', 'tz_id', 'local_population', 'geometry_gdf2', 'hex_id', 'id', 'left', 'top', 'right', 'bottom', 'row_index', 'col_index']]\n",
    "    # Función para calcular el promedio ponderado\n",
    "    def weighted_average(dfg):\n",
    "        weights = dfg['local_population']\n",
    "        return pd.Series({\n",
    "            col: (dfg[col] * weights).sum() / weights.sum() for col in columns_to_average\n",
    "        })\n",
    "    \n",
    "    # Agrupar por el ID de hexágono y calcular el promedio ponderado para cada columna\n",
    "    df_aggregated = df.groupby('tz_id')[['local_population']+columns_to_average].apply(weighted_average).reset_index()\n",
    "    \n",
    "    # Unir los resultados con la geometría de la cuadrícula hexagonal\n",
    "    return df_aggregated\n"
   ]
  },
  {
   "cell_type": "code",
   "execution_count": null,
   "metadata": {},
   "outputs": [],
   "source": [
    "#df_300"
   ]
  },
  {
   "cell_type": "code",
   "execution_count": null,
   "metadata": {},
   "outputs": [],
   "source": [
    "df_tz_300 = agg_tzs(df_300)\n",
    "df_tz_600 = agg_tzs(df_600)\n",
    "df_tz_900 = agg_tzs(df_900)"
   ]
  },
  {
   "cell_type": "code",
   "execution_count": null,
   "metadata": {},
   "outputs": [],
   "source": [
    "df_tz_900"
   ]
  },
  {
   "cell_type": "code",
   "execution_count": null,
   "metadata": {},
   "outputs": [],
   "source": [
    "for c in [col for col in df_tz_900.columns if col not in ['geometry', 'node_id', 'tz_id', 'local_population', 'geometry_gdf2', 'hex_id', 'id', 'left', 'top', 'right', 'bottom', 'row_index', 'col_index']]:\n",
    "    print(\"............................\")\n",
    "    print(f\"Results on column {c}\")\n",
    "    print(f\"Zero values in zones {str(df_tz_900.loc[df_tz_900[c]==0]['tz_id'].unique()).replace(\" \",\",\")}\")\n",
    "    print(f\"Negative values in zones {str(df_tz_900.loc[df_tz_900[c]<0]['tz_id'].unique()).replace(\" \",\",\")}\")\n",
    "    #print(df_tz_900.loc[df_tz_900[c]==0].to_string())\n",
    "    #print(df_tz_900.loc[df_tz_900[c]<0].to_string())\n",
    "    print(f\"Max value: {df_tz_900[c].max()}\")\n",
    "    print(f\"Mean value: {df_tz_900[c].loc[df_tz_900[c]!=0].mean()}\")\n",
    "    print(f\"Min value: {df_tz_900[c].loc[df_tz_900[c]!=0].min()}\")"
   ]
  },
  {
   "cell_type": "code",
   "execution_count": null,
   "metadata": {},
   "outputs": [],
   "source": [
    "df_300 = join_to_hexa(df_300,hexa)\n",
    "df_600 = join_to_hexa(df_600,hexa)\n",
    "df_900 = join_to_hexa(df_900,hexa)"
   ]
  },
  {
   "cell_type": "code",
   "execution_count": null,
   "metadata": {},
   "outputs": [],
   "source": [
    "# Supón que df es tu dataframe\n",
    "def categorize_z_scores(df,cols):\n",
    "    # Calcula el z-score para cada columna numérica y asegura que el resultado es un DataFrame\n",
    "    df_z = df.copy()\n",
    "    for c in cols:\n",
    "        df_z.loc[df_z[c].notnull(), c] = zscore(df_z[df_z[c].notnull()][c])\n",
    "\n",
    "    # Define la función de categorización\n",
    "    def categorize(value):\n",
    "        if value < -2:\n",
    "            return 0\n",
    "        elif -2 <= value < -1:\n",
    "            return 1\n",
    "        elif -1 <= value < 1:\n",
    "            return 2\n",
    "        elif 1 <= value < 2:\n",
    "            return 3\n",
    "        else:\n",
    "            return 4\n",
    "\n",
    "    # Aplica la función de categorización a cada valor del z-score\n",
    "    \n",
    "    df_categorized = df_z.applymap(lambda x: categorize(x) if isinstance(x, (int, float)) else x)\n",
    "    return df_categorized\n",
    "    return df_z\n",
    "\n",
    "\n"
   ]
  },
  {
   "cell_type": "code",
   "execution_count": null,
   "metadata": {},
   "outputs": [],
   "source": [
    "import pandas as pd\n",
    "\n",
    "def remove_and_transform_outliers(df, columns):\n",
    "    \"\"\"\n",
    "    Removes outliers in the specified columns of the DataFrame and transforms them\n",
    "    to the maximum non-outlier value in that column.\n",
    "    \n",
    "    Parameters:\n",
    "    - df (pd.DataFrame): The DataFrame containing the data.\n",
    "    - columns (list): List of column names to process for outliers.\n",
    "    \n",
    "    Returns:\n",
    "    - pd.DataFrame: DataFrame with outliers transformed to the max non-outlier value.\n",
    "    \"\"\"\n",
    "    df_corrected = df.copy()  # Make a copy to avoid modifying the original DataFrame\n",
    "    \n",
    "    for col in columns:\n",
    "        # Calculate Q1, Q3, and IQR for outlier detection\n",
    "        Q1 = df_corrected[col].quantile(0.25)\n",
    "        Q3 = df_corrected[col].quantile(0.75)\n",
    "        IQR = Q3 - Q1\n",
    "        lower_bound = Q1 - 1.5 * IQR\n",
    "        upper_bound = Q3 + 1.5 * IQR\n",
    "        \n",
    "        # Get the maximum value within the non-outlier range\n",
    "        max_non_outlier_value = df_corrected[(df_corrected[col] >= lower_bound) & (df_corrected[col] <= upper_bound)][col].max()\n",
    "        \n",
    "        # Replace outliers with the maximum non-outlier value\n",
    "        df_corrected.loc[df_corrected[col] > upper_bound, col] = max_non_outlier_value\n",
    "        df_corrected.loc[df_corrected[col] < lower_bound, col] = max_non_outlier_value\n",
    "    \n",
    "    return df_corrected\n"
   ]
  },
  {
   "cell_type": "code",
   "execution_count": null,
   "metadata": {},
   "outputs": [],
   "source": [
    "# Filtra las columnas de interés\n",
    "columns_of_interest = [c for c in df_300.columns if any(sub in c for sub in [\"dem\",\"den\",\"div\",\"des\",\"acc\"])]"
   ]
  },
  {
   "cell_type": "code",
   "execution_count": null,
   "metadata": {},
   "outputs": [],
   "source": [
    "df300c = remove_and_transform_outliers(df_300, ['dem_income','dem_household_size','dem_mean_age'])\n",
    "df600c = remove_and_transform_outliers(df_600, ['dem_income','dem_household_size','dem_mean_age'])\n",
    "df900c = remove_and_transform_outliers(df_900, ['dem_income','dem_household_size','dem_mean_age'])\n"
   ]
  },
  {
   "cell_type": "code",
   "execution_count": null,
   "metadata": {},
   "outputs": [],
   "source": [
    "# Aplica la función al dataframe\n",
    "df300c = categorize_z_scores(df_300,columns_of_interest)\n",
    "df600c = categorize_z_scores(df_600,columns_of_interest)\n",
    "df900c = categorize_z_scores(df_900,columns_of_interest)\n"
   ]
  },
  {
   "cell_type": "code",
   "execution_count": null,
   "metadata": {},
   "outputs": [],
   "source": [
    "#df_300.to_file(r\"G:\\Mi unidad\\walknet_datalake\\temp\\loaded_hexa_300.gpkg\",driver='GPKG')\n",
    "#df_600.to_file(r\"G:\\Mi unidad\\walknet_datalake\\temp\\loaded_hexa_600.gpkg\",driver='GPKG')\n",
    "#df_900.to_file(r\"G:\\Mi unidad\\walknet_datalake\\temp\\loaded_hexa_900.gpkg\",driver='GPKG')"
   ]
  },
  {
   "cell_type": "code",
   "execution_count": null,
   "metadata": {},
   "outputs": [],
   "source": [
    "munis = [\"28005\", \"28006\", \"28007\", \"28022\", \"28026\", \"28045\", \"28049\", \"28058\", \"28065\", \"28073\", \"28074\", \"28080\", \"28084\", \"28092\", \"28104\", \"28106\", \"28113\", \"28115\", \"28127\", \"28130\", \"28134\", \"28148\", \"28167\", \"28176\", \"28177\", \"28181\", \"28903\", \"28079\",\"28123\",\"28903\"]\n",
    "#munis = [\"28079\"]\n",
    "gdf_ine = gpd.read_file(r\"G:\\Mi unidad\\walknet_datalake\\sources\\ine_geo\\level1\\level1_ine_geo_2018.gpkg\")\n",
    "muni_ref = gdf_ine[(gdf_ine['boundary_type'] == \"municipality\")&(gdf_ine['municipality_code'].isin(munis))]\n",
    "                                                                \n",
    "muni_ref = muni_ref.dissolve()\n",
    "muni_ref = muni_ref['geometry'].boundary"
   ]
  },
  {
   "cell_type": "code",
   "execution_count": null,
   "metadata": {},
   "outputs": [],
   "source": [
    "from matplotlib.colors import LinearSegmentedColormap\n",
    "def make_plot(cax, df, col, map):\n",
    "    \n",
    "    cmap = LinearSegmentedColormap.from_list(\"bry\", [\"lightgray\",\"lightskyblue\", \"red\"])\n",
    "    df.plot(column = col,ax = cax, cmap = cmap ,linewidth=0,scheme='natural_breaks')\n",
    "    #df.plot(ax = cax, color = 'whitesmoke',linewidth=0,alpha=0,zorder=1)\n",
    "    muni_ref.plot(linewidth=0.5, ax = cax,color='black',zorder=3)\n",
    "    cax.set_title(map,**hfont,va=\"center_baseline\")\n",
    "    cax.yaxis.set_label_text(\"\")\n",
    "    #ax[i][0].set_ylabel(title, rotation=0, labelpad=30, ha=\"right\", fontweight=\"bold\", va=\"center_baseline\")\n",
    "    cax.set_xlabel('') \n",
    "    cax.axis('off')"
   ]
  },
  {
   "cell_type": "code",
   "execution_count": null,
   "metadata": {},
   "outputs": [],
   "source": [
    "fig, ax = plt.subplots(5,3,figsize=(8.5,11),sharey=True,sharex=True)\n",
    "fig.suptitle('Demographic Factors',**csfont, fontweight=\"bold\",y=1) # Title\n",
    "make_plot(ax[0][0], df300c[~df300c['dem_income'].isna()], 'dem_income', '300 m. Threshold')\n",
    "make_plot(ax[0][1], df600c[~df600c['dem_income'].isna()], 'dem_income', '600 m. Threshold\\nNet Household Income')\n",
    "make_plot(ax[0][2], df900c[~df900c['dem_income'].isna()], 'dem_income', '900 m. Threshold')\n",
    "\n",
    "make_plot(ax[1][0], df300c[~df300c['dem_income'].isna()], 'dem_household_size', '')\n",
    "make_plot(ax[1][1], df600c[~df600c['dem_income'].isna()], 'dem_household_size', 'Mean Household Size')\n",
    "make_plot(ax[1][2], df900c[~df900c['dem_income'].isna()], 'dem_household_size', '')\n",
    "\n",
    "make_plot(ax[2][0], df300c[~df300c['dem_mean_age'].isna()], 'dem_mean_age', '')\n",
    "make_plot(ax[2][1], df600c[~df600c['dem_mean_age'].isna()], 'dem_mean_age', 'Mean Age')\n",
    "make_plot(ax[2][2], df900c[~df900c['dem_mean_age'].isna()], 'dem_mean_age', '')\n",
    "\n",
    "for x in (3,4):\n",
    "    for y in (0,1,2):\n",
    "        ax[x][y].yaxis.set_label_text(\"\")\n",
    "        ax[x][y].set_xlabel('') \n",
    "        ax[x][y].axis('off')\n",
    "\n",
    "fig.tight_layout(pad=0.1)\n",
    "#plt.grid(False)\n",
    "\n",
    "plt.savefig(r\"C:\\Users\\katul\\OneDrive\\Escritorio\\demographic_factors_1.jpg\")\n",
    "\n",
    "plt.show()\n"
   ]
  },
  {
   "cell_type": "code",
   "execution_count": null,
   "metadata": {},
   "outputs": [],
   "source": [
    "fig, ax = plt.subplots(5,3,figsize=(8.5,11),sharey=True,sharex=True)\n",
    "fig.suptitle('Accessibility Factors',**csfont, fontweight=\"bold\",y=1) # Title\n",
    "\n",
    "make_plot(ax[0][0], df300c[~df300c['acc_care_other'].isna()], 'acc_care_other', '300 m. Threshold\\n')\n",
    "make_plot(ax[0][1], df600c[~df600c['acc_care_other'].isna()], 'acc_care_other', '600 m. Threshold\\nOther Care Facilities')\n",
    "make_plot(ax[0][2], df900c[~df900c['acc_care_other'].isna()], 'acc_care_other', '900 m. Threshold\\n')\n",
    "\n",
    "\n",
    "make_plot(ax[1][0], df300c[~df300c['acc_care_public'].isna()], 'acc_care_public', '')\n",
    "make_plot(ax[1][1], df600c[~df600c['acc_care_public'].isna()], 'acc_care_public', 'Main Care Facilities')\n",
    "make_plot(ax[1][2], df900c[~df900c['acc_care_public'].isna()], 'acc_care_public', '')\n",
    "\n",
    "make_plot(ax[2][0], df300c[~df300c['acc_school_superior'].isna()], 'acc_school_superior', '')\n",
    "make_plot(ax[2][1], df600c[~df600c['acc_school_superior'].isna()], 'acc_school_superior', 'Higher Education')\n",
    "make_plot(ax[2][2], df900c[~df900c['acc_school_superior'].isna()], 'acc_school_superior', '')\n",
    "\n",
    "make_plot(ax[3][0], df300c[~df300c['acc_school_basic'].isna()], 'acc_school_basic', '')\n",
    "make_plot(ax[3][1], df600c[~df600c['acc_school_basic'].isna()], 'acc_school_basic', 'Basic Education')\n",
    "make_plot(ax[3][2], df900c[~df900c['acc_school_basic'].isna()], 'acc_school_basic', '')\n",
    "\n",
    "make_plot(ax[4][0], df300c[~df300c['acc_sport_other'].isna()], 'acc_sport_other', '')\n",
    "make_plot(ax[4][1], df600c[~df600c['acc_sport_other'].isna()], 'acc_sport_other', 'Sport Facility')\n",
    "make_plot(ax[4][2], df900c[~df900c['acc_sport_other'].isna()], 'acc_sport_other', '')\n",
    "#ax[4][0].set_xlabel('300 m. Threshold',**hfont,fontweight='bold') \n",
    "#ax[4][1].set_xlabel('600 m. Threshold',**hfont,fontweight='bold') \n",
    "#ax[4][2].set_xlabel('900 m. Threshold',**hfont,fontweight='bold') \n",
    "\n",
    "fig.tight_layout(pad=0.1)\n",
    "#plt.grid(False)\n",
    "\n",
    "plt.savefig(r\"C:\\Users\\katul\\OneDrive\\Escritorio\\accessibility_factors_1.jpg\")\n",
    "\n",
    "plt.show()"
   ]
  },
  {
   "cell_type": "code",
   "execution_count": null,
   "metadata": {},
   "outputs": [],
   "source": []
  },
  {
   "cell_type": "code",
   "execution_count": null,
   "metadata": {},
   "outputs": [],
   "source": [
    "fig, ax = plt.subplots(5,3,figsize=(8.5,11),sharey=True,sharex=True)\n",
    "fig.suptitle('\\n',**csfont, fontweight=\"bold\",y=1) # Title\n",
    "make_plot(ax[0][0], df300c[~df300c['acc_leisure_bar'].isna()], 'acc_leisure_bar', '300 m. Threshold\\n')\n",
    "make_plot(ax[0][1], df600c[~df600c['acc_leisure_bar'].isna()], 'acc_leisure_bar', '600 m. Threshold\\nBars & Restaurants')\n",
    "make_plot(ax[0][2], df900c[~df900c['acc_leisure_bar'].isna()], 'acc_leisure_bar', '900 m. Threshold\\n')\n",
    "\n",
    "make_plot(ax[1][0], df300c[~df300c['acc_leisure_cultural'].isna()], 'acc_leisure_cultural', '')\n",
    "make_plot(ax[1][1], df600c[~df600c['acc_leisure_cultural'].isna()], 'acc_leisure_cultural', 'Cultural Facilities')\n",
    "make_plot(ax[1][2], df900c[~df900c['acc_leisure_cultural'].isna()], 'acc_leisure_cultural', '')\n",
    "\n",
    "make_plot(ax[2][0], df300c[~df300c['acc_leisure_shows'].isna()], 'acc_leisure_shows', '')\n",
    "make_plot(ax[2][1], df600c[~df600c['acc_leisure_shows'].isna()], 'acc_leisure_shows', 'Shows and Theaters')\n",
    "make_plot(ax[2][2], df900c[~df900c['acc_leisure_shows'].isna()], 'acc_leisure_shows', '')\n",
    "\n",
    "make_plot(ax[3][0], df300c[~df300c['acc_shopping_alone'].isna()], 'acc_shopping_alone', '')\n",
    "make_plot(ax[3][1], df600c[~df600c['acc_shopping_alone'].isna()], 'acc_shopping_alone', 'Other Retail')\n",
    "make_plot(ax[3][2], df900c[~df900c['acc_shopping_alone'].isna()], 'acc_shopping_alone', '')\n",
    "\n",
    "make_plot(ax[4][0], df300c[~df300c['acc_shopping_market'].isna()], 'acc_shopping_market', '')\n",
    "make_plot(ax[4][1], df600c[~df600c['acc_shopping_market'].isna()], 'acc_shopping_market', 'Market / Supermarket')\n",
    "make_plot(ax[4][2], df900c[~df900c['acc_shopping_market'].isna()], 'acc_shopping_market', '')\n",
    "\n",
    "fig.tight_layout(pad=0)\n",
    "#plt.grid(False)\n",
    "\n",
    "plt.savefig(r\"C:\\Users\\katul\\OneDrive\\Escritorio\\accessibility_factors_2.jpg\")\n",
    "\n",
    "plt.show()"
   ]
  },
  {
   "cell_type": "code",
   "execution_count": null,
   "metadata": {},
   "outputs": [],
   "source": []
  },
  {
   "cell_type": "code",
   "execution_count": null,
   "metadata": {},
   "outputs": [],
   "source": [
    "\n",
    "fig, ax = plt.subplots(5,3,figsize=(8.5,11),sharey=True,sharex=True)\n",
    "\n",
    "fig.suptitle('\\n',**csfont, fontweight=\"bold\",y=1) # Title\n",
    "make_plot(ax[0][0], df300c[~df300c['acc_shopping_mall'].isna()], 'acc_shopping_mall', '300 m. Threshold\\n')\n",
    "make_plot(ax[0][1], df600c[~df600c['acc_shopping_mall'].isna()], 'acc_shopping_mall', '600 m. Threshold\\nShopping Mall')\n",
    "make_plot(ax[0][2], df900c[~df900c['acc_shopping_mall'].isna()], 'acc_shopping_mall', '900 m. Threshold\\n')\n",
    "\n",
    "make_plot(ax[1][0], df300c[~df300c['acc_transportation'].isna()], 'acc_transportation', '')\n",
    "make_plot(ax[1][1], df600c[~df600c['acc_transportation'].isna()], 'acc_transportation', 'Transportation')\n",
    "make_plot(ax[1][2], df900c[~df900c['acc_transportation'].isna()], 'acc_transportation', '')\n",
    "\n",
    "make_plot(ax[2][0], df300c[~df300c['acc_parks_S'].isna()], 'acc_parks_S', '')\n",
    "make_plot(ax[2][1], df600c[~df600c['acc_parks_S'].isna()], 'acc_parks_S', 'Small Parks')\n",
    "make_plot(ax[2][2], df900c[~df900c['acc_parks_S'].isna()], 'acc_parks_S', '')\n",
    "\n",
    "make_plot(ax[3][0], df300c[~df300c['acc_parks_M'].isna()], 'acc_parks_M', '')\n",
    "make_plot(ax[3][1], df600c[~df600c['acc_parks_M'].isna()], 'acc_parks_M', 'Medium Parks')\n",
    "make_plot(ax[3][2], df900c[~df900c['acc_parks_M'].isna()], 'acc_parks_M', '')\n",
    "\n",
    "make_plot(ax[4][0], df300c[~df300c['acc_parks_L'].isna()], 'acc_parks_L', '')\n",
    "make_plot(ax[4][1], df600c[~df600c['acc_parks_L'].isna()], 'acc_parks_L', 'Large Parks')\n",
    "make_plot(ax[4][2], df900c[~df900c['acc_parks_L'].isna()], 'acc_parks_L', '')\n",
    "fig.tight_layout(pad=0)\n",
    "#plt.grid(False)\n",
    "\n",
    "plt.savefig(r\"C:\\Users\\katul\\OneDrive\\Escritorio\\accessibility_factors_3.jpg\")\n",
    "\n",
    "plt.show()"
   ]
  },
  {
   "cell_type": "code",
   "execution_count": null,
   "metadata": {},
   "outputs": [],
   "source": [
    "fig, ax = plt.subplots(5,3,figsize=(8.5,11),sharey=True,sharex=True)\n",
    "\n",
    "fig.suptitle('Diversity Factors',**csfont, fontweight=\"bold\",y=1) # Title\n",
    "\n",
    "make_plot(ax[0][0], df300c[~df300c['div_wt_care'].isna()], 'div_wt_care', '300 m. Threshold\\n')\n",
    "make_plot(ax[0][1], df600c[~df600c['div_wt_care'].isna()], 'div_wt_care', '600 m. Threshold\\nWT Care')\n",
    "make_plot(ax[0][2], df900c[~df900c['div_wt_care'].isna()], 'div_wt_care', '900 m. Threshold\\nWT Care')\n",
    "\n",
    "make_plot(ax[1][0], df300c[~df300c['div_ut_care'].isna()], 'div_ut_care', '')\n",
    "make_plot(ax[1][1], df600c[~df600c['div_ut_care'].isna()], 'div_ut_care', 'UT Care')\n",
    "make_plot(ax[1][2], df900c[~df900c['div_ut_care'].isna()], 'div_ut_care', '')\n",
    "\n",
    "make_plot(ax[2][0], df300c[~df300c['div_wt_school'].isna()], 'div_wt_school', '')\n",
    "make_plot(ax[2][1], df600c[~df600c['div_wt_school'].isna()], 'div_wt_school', 'WT School')\n",
    "make_plot(ax[2][2], df900c[~df900c['div_wt_school'].isna()], 'div_wt_school', '')\n",
    "\n",
    "make_plot(ax[3][0], df300c[~df300c['div_ut_school'].isna()], 'div_ut_school', '')\n",
    "make_plot(ax[3][1], df600c[~df600c['div_ut_school'].isna()], 'div_ut_school', 'UT School')\n",
    "make_plot(ax[3][2], df900c[~df900c['div_ut_school'].isna()], 'div_ut_school', '')\n",
    "\n",
    "make_plot(ax[4][0], df300c[~df300c['div_wt_leisure'].isna()], 'div_wt_leisure', '')\n",
    "make_plot(ax[4][1], df600c[~df600c['div_wt_leisure'].isna()], 'div_wt_leisure', 'WT Leisure')\n",
    "make_plot(ax[4][2], df900c[~df900c['div_wt_leisure'].isna()], 'div_wt_leisure', '')\n",
    "\n",
    "fig.tight_layout(pad=0)\n",
    "#plt.grid(False)\n",
    "\n",
    "plt.savefig(r\"C:\\Users\\katul\\OneDrive\\Escritorio\\diversity_factors_1.jpg\")\n",
    "\n",
    "plt.show()"
   ]
  },
  {
   "cell_type": "code",
   "execution_count": null,
   "metadata": {},
   "outputs": [],
   "source": [
    "fig, ax = plt.subplots(5,3,figsize=(8.5,11),sharey=True,sharex=True)\n",
    "fig.suptitle('\\n',**csfont, fontweight=\"bold\",y=1) # Title\n",
    "make_plot(ax[0][0], df300c[~df300c['div_ut_leisure'].isna()], 'div_ut_leisure', '300 m. Threshold\\n')\n",
    "make_plot(ax[0][1], df600c[~df600c['div_ut_leisure'].isna()], 'div_ut_leisure', '600 m. Threshold\\nUT Leisure')\n",
    "make_plot(ax[0][2], df900c[~df900c['div_ut_leisure'].isna()], 'div_ut_leisure', '900 m. Threshold\\n')\n",
    "\n",
    "make_plot(ax[1][0], df300c[~df300c['div_wt_shopping'].isna()], 'div_wt_shopping', '')\n",
    "make_plot(ax[1][1], df600c[~df600c['div_wt_shopping'].isna()], 'div_wt_shopping', 'WT Shopping')\n",
    "make_plot(ax[1][2], df900c[~df900c['div_wt_shopping'].isna()], 'div_wt_shopping', '')\n",
    "\n",
    "make_plot(ax[2][0], df300c[~df300c['div_ut_shopping'].isna()], 'div_ut_shopping', '')\n",
    "make_plot(ax[2][1], df600c[~df600c['div_ut_shopping'].isna()], 'div_ut_shopping', 'UT Shopping')\n",
    "make_plot(ax[2][2], df900c[~df900c['div_ut_shopping'].isna()], 'div_ut_shopping', '')\n",
    "\n",
    "make_plot(ax[3][0], df300c[~df300c['div_wt_sport'].isna()], 'div_wt_sport', '')\n",
    "make_plot(ax[3][1], df600c[~df600c['div_wt_sport'].isna()], 'div_wt_sport', 'WT Sport')\n",
    "make_plot(ax[3][2], df900c[~df900c['div_wt_sport'].isna()], 'div_wt_sport', '')\n",
    "\n",
    "make_plot(ax[4][0], df300c[~df300c['div_ut_sport'].isna()], 'div_ut_sport', '')\n",
    "make_plot(ax[4][1], df600c[~df600c['div_ut_sport'].isna()], 'div_ut_sport', 'UT Sport')\n",
    "make_plot(ax[4][2], df900c[~df900c['div_ut_sport'].isna()], 'div_ut_sport', '')\n",
    "\n",
    "fig.tight_layout(pad=0)\n",
    "#plt.grid(False)\n",
    "\n",
    "plt.savefig(r\"C:\\Users\\katul\\OneDrive\\Escritorio\\diversity_factors_2.jpg\")\n",
    "\n",
    "plt.show()"
   ]
  },
  {
   "cell_type": "code",
   "execution_count": null,
   "metadata": {},
   "outputs": [],
   "source": [
    "\n",
    "fig, ax = plt.subplots(5,3,figsize=(8.5,11),sharey=True,sharex=True)\n",
    "fig.suptitle('Density Factors',**csfont, fontweight=\"bold\",y=1) # Title\n",
    "make_plot(ax[0][0], df300c[~df300c['dens_pop_total'].isna()], 'dens_pop_total', '300 m. Threshold\\n')\n",
    "make_plot(ax[0][1], df600c[~df600c['dens_pop_total'].isna()], 'dens_pop_total', '600 m. Threshold\\nPopulation Density')\n",
    "make_plot(ax[0][2], df900c[~df900c['dens_pop_total'].isna()], 'dens_pop_total', '900 m. Threshold\\n')\n",
    "\n",
    "make_plot(ax[1][0], df300c[~df300c['dens_hou_total'].isna()], 'dens_hou_total', '')\n",
    "make_plot(ax[1][1], df600c[~df600c['dens_hou_total'].isna()], 'dens_hou_total', 'Residential Density')\n",
    "make_plot(ax[1][2], df900c[~df900c['dens_hou_total'].isna()], 'dens_hou_total', '')\n",
    "\n",
    "make_plot(ax[2][0], df300c[~df300c['dens_far'].isna()], 'dens_far', '')\n",
    "make_plot(ax[2][1], df600c[~df600c['dens_far'].isna()], 'dens_far', 'Floor Area Ratio')\n",
    "make_plot(ax[2][2], df900c[~df900c['dens_far'].isna()], 'dens_far', '')\n",
    "\n",
    "make_plot(ax[3][0], df300c[~df300c['den_perc_unbuilt'].isna()], 'den_perc_unbuilt', '')\n",
    "make_plot(ax[3][1], df600c[~df600c['den_perc_unbuilt'].isna()], 'den_perc_unbuilt', 'Percentage Unbuilt')\n",
    "make_plot(ax[3][2], df900c[~df900c['den_perc_unbuilt'].isna()], 'den_perc_unbuilt', '')\n",
    "\n",
    "make_plot(ax[4][0], df300c[~df300c['dens_built_total'].isna()], 'dens_built_total', '')\n",
    "make_plot(ax[4][1], df600c[~df600c['dens_built_total'].isna()], 'dens_built_total', 'Total Built Area')\n",
    "make_plot(ax[4][2], df900c[~df900c['dens_built_total'].isna()], 'dens_built_total', '')\n",
    "\n",
    "\n",
    "fig.tight_layout(pad=0)\n",
    "#plt.grid(False)\n",
    "\n",
    "plt.savefig(r\"C:\\Users\\katul\\OneDrive\\Escritorio\\density_factors_1.jpg\")\n",
    "\n",
    "plt.show()"
   ]
  },
  {
   "cell_type": "code",
   "execution_count": null,
   "metadata": {},
   "outputs": [],
   "source": [
    "\n",
    "fig, ax = plt.subplots(5,3,figsize=(8.5,11),sharey=True,sharex=True)\n",
    "fig.suptitle('Design Factors',**csfont, fontweight=\"bold\",y=1) # Title\n",
    "\n",
    "make_plot(ax[0][0], df300c[~df300c['des_mean_degree'].isna()], 'des_mean_degree', '300 m. Threshold\\n')\n",
    "make_plot(ax[0][1], df600c[~df600c['des_mean_degree'].isna()], 'des_mean_degree', '600 m. Threshold\\nDegree')\n",
    "make_plot(ax[0][2], df900c[~df900c['des_mean_degree'].isna()], 'des_mean_degree', '900 m. Threshold\\n')\n",
    "\n",
    "make_plot(ax[1][0], df300c[~df300c['des_straightness'].isna()], 'des_straightness', '')\n",
    "make_plot(ax[1][1], df600c[~df600c['des_straightness'].isna()], 'des_straightness', 'Straightness')\n",
    "make_plot(ax[1][2], df900c[~df900c['des_straightness'].isna()], 'des_straightness', '')\n",
    "\n",
    "make_plot(ax[2][0], df300c[~df300c['des_building_age'].isna()], 'des_building_age', '')\n",
    "make_plot(ax[2][1], df600c[~df600c['des_building_age'].isna()], 'des_building_age', 'Mean Building Age')\n",
    "make_plot(ax[2][2], df900c[~df900c['des_building_age'].isna()], 'des_building_age', '')\n",
    "\n",
    "make_plot(ax[3][0], df300c[~df300c['des_betweenness'].isna()], 'des_betweenness', '')\n",
    "make_plot(ax[3][1], df600c[~df600c['des_betweenness'].isna()], 'des_betweenness', 'Betweenness')\n",
    "make_plot(ax[3][2], df900c[~df900c['des_betweenness'].isna()], 'des_betweenness', '')\n",
    "\n",
    "make_plot(ax[4][0], df300c[~df300c['des_slope'].isna()], 'des_slope', '')\n",
    "make_plot(ax[4][1], df600c[~df600c['des_slope'].isna()], 'des_slope', 'Slope')\n",
    "make_plot(ax[4][2], df900c[~df900c['des_slope'].isna()], 'des_slope', '')\n",
    "\n",
    "fig.tight_layout(pad=0)\n",
    "\n",
    "plt.savefig(r\"C:\\Users\\katul\\OneDrive\\Escritorio\\design_factors_1.jpg\")\n",
    "\n",
    "plt.show()"
   ]
  },
  {
   "cell_type": "code",
   "execution_count": null,
   "metadata": {},
   "outputs": [],
   "source": [
    "\n",
    "fig, ax = plt.subplots(5,3,figsize=(8.5,11),sharey=True,sharex=True)\n",
    "fig.suptitle('\\n',**csfont, fontweight=\"bold\",y=1) # Title\n",
    "\n",
    "make_plot(ax[0][0], df300c[~df300c['den_perc_housing_sfr'].isna()], 'den_perc_housing_sfr', '300 m. Threshold\\n')\n",
    "make_plot(ax[0][1], df600c[~df600c['den_perc_housing_sfr'].isna()], 'den_perc_housing_sfr', '600 m. Threshold\\n % Single Family Residence')\n",
    "make_plot(ax[0][2], df900c[~df900c['den_perc_housing_sfr'].isna()], 'den_perc_housing_sfr', '900 m. Threshold\\n')\n",
    "\n",
    "make_plot(ax[1][0], df300c[~df300c['den_perc_housing_ch'].isna()], 'den_perc_housing_ch', '')\n",
    "make_plot(ax[1][1], df600c[~df600c['den_perc_housing_ch'].isna()], 'den_perc_housing_ch', '% Collective Housing')\n",
    "make_plot(ax[1][2], df900c[~df900c['den_perc_housing_ch'].isna()], 'den_perc_housing_ch', '')\n",
    "\n",
    "make_plot(ax[2][0], df300c[~df300c['den_perc_leisure_bar'].isna()], 'den_perc_leisure_bar', '')\n",
    "make_plot(ax[2][1], df600c[~df600c['den_perc_leisure_bar'].isna()], 'den_perc_leisure_bar', '% Bars & Restaurants')\n",
    "make_plot(ax[2][2], df900c[~df900c['den_perc_leisure_bar'].isna()], 'den_perc_leisure_bar', '')\n",
    "\n",
    "make_plot(ax[3][0], df300c[~df300c['den_perc_leisure_cultural'].isna()], 'den_perc_leisure_cultural', '')\n",
    "make_plot(ax[3][1], df600c[~df600c['den_perc_leisure_cultural'].isna()], 'den_perc_leisure_cultural', '% Cultural Facility')\n",
    "make_plot(ax[3][2], df900c[~df900c['den_perc_leisure_cultural'].isna()], 'den_perc_leisure_cultural', '')\n",
    "\n",
    "make_plot(ax[4][0], df300c[~df300c['den_perc_leisure_shows'].isna()], 'den_perc_leisure_shows', '')\n",
    "make_plot(ax[4][1], df600c[~df600c['den_perc_leisure_shows'].isna()], 'den_perc_leisure_shows', '% Shows & Theaters')\n",
    "make_plot(ax[4][2], df900c[~df900c['den_perc_leisure_shows'].isna()], 'den_perc_leisure_shows', '')\n",
    "\n",
    "fig.tight_layout(pad=0)\n",
    "\n",
    "plt.savefig(r\"C:\\Users\\katul\\OneDrive\\Escritorio\\density_factors_3.jpg\")\n",
    "\n",
    "plt.show()\n"
   ]
  },
  {
   "cell_type": "code",
   "execution_count": null,
   "metadata": {},
   "outputs": [],
   "source": [
    "\n",
    "fig, ax = plt.subplots(5,3,figsize=(8.5,11),sharey=True,sharex=True)\n",
    "fig.suptitle('\\n',**csfont, fontweight=\"bold\",y=1) # Title\n",
    "\n",
    "make_plot(ax[0][0], df300c[~df300c['den_perc_school_superior'].isna()], 'den_perc_school_superior', '300 m. Threshold\\n')\n",
    "make_plot(ax[0][1], df600c[~df600c['den_perc_school_superior'].isna()], 'den_perc_school_superior', '600 m. Threshold\\n % Higher Education')\n",
    "make_plot(ax[0][2], df900c[~df900c['den_perc_school_superior'].isna()], 'den_perc_school_superior', '900 m. Threshold\\n')\n",
    "\n",
    "make_plot(ax[1][0], df300c[~df300c['den_perc_school_basic'].isna()], 'den_perc_school_basic', '')\n",
    "make_plot(ax[1][1], df600c[~df600c['den_perc_school_basic'].isna()], 'den_perc_school_basic', '% Basic Education')\n",
    "make_plot(ax[1][2], df900c[~df900c['den_perc_school_basic'].isna()], 'den_perc_school_basic', '')\n",
    "\n",
    "make_plot(ax[2][0], df300c[~df300c['den_perc_shopping_mall'].isna()], 'den_perc_shopping_mall', '')\n",
    "make_plot(ax[2][1], df600c[~df600c['den_perc_shopping_mall'].isna()], 'den_perc_shopping_mall', '% Shopping Mall')\n",
    "make_plot(ax[2][2], df900c[~df900c['den_perc_shopping_mall'].isna()], 'den_perc_shopping_mall', '')\n",
    "\n",
    "make_plot(ax[3][0], df300c[~df300c['den_perc_shopping_market'].isna()], 'den_perc_shopping_market', '')\n",
    "make_plot(ax[3][1], df600c[~df600c['den_perc_shopping_market'].isna()], 'den_perc_shopping_market', '% Market / Supermarket')\n",
    "make_plot(ax[3][2], df900c[~df900c['den_perc_shopping_market'].isna()], 'den_perc_shopping_market', '')\n",
    "\n",
    "make_plot(ax[4][0], df300c[~df300c['den_perc_shopping_alone'].isna()], 'den_perc_shopping_alone', '')\n",
    "make_plot(ax[4][1], df600c[~df600c['den_perc_shopping_alone'].isna()], 'den_perc_shopping_alone', '% Other Retail')\n",
    "make_plot(ax[4][2], df900c[~df900c['den_perc_shopping_alone'].isna()], 'den_perc_shopping_alone', '')\n",
    "\n",
    "fig.tight_layout(pad=0)\n",
    "#plt.grid(False)\n",
    "\n",
    "plt.savefig(r\"C:\\Users\\katul\\OneDrive\\Escritorio\\density_factors_4.jpg\")\n",
    "\n",
    "plt.show()\n"
   ]
  },
  {
   "cell_type": "code",
   "execution_count": null,
   "metadata": {},
   "outputs": [],
   "source": [
    "\n",
    "fig, ax = plt.subplots(5,3,figsize=(8.5,11),sharey=True,sharex=True)\n",
    "fig.suptitle('\\n',**csfont, fontweight=\"bold\",y=1) # Title\n",
    "\n",
    "make_plot(ax[0][0], df300c[~df300c['den_perc_care_other'].isna()], 'den_perc_care_other', '300 m. Threshold\\n')\n",
    "make_plot(ax[0][1], df600c[~df600c['den_perc_care_other'].isna()], 'den_perc_care_other', '600 m. Threshold\\n % Other Care Facilities')\n",
    "make_plot(ax[0][2], df900c[~df900c['den_perc_care_other'].isna()], 'den_perc_care_other', '900 m. Threshold\\n')\n",
    "\n",
    "make_plot(ax[1][0], df300c[~df300c['den_perc_care_public'].isna()], 'den_perc_care_public', '')\n",
    "make_plot(ax[1][1], df600c[~df600c['den_perc_care_public'].isna()], 'den_perc_care_public', '% Main Care Facilities')\n",
    "make_plot(ax[1][2], df900c[~df900c['den_perc_care_public'].isna()], 'den_perc_care_public', '')\n",
    "\n",
    "make_plot(ax[2][0], df300c[~df300c['den_perc_sport_other'].isna()], 'den_perc_sport_other', '')\n",
    "make_plot(ax[2][1], df600c[~df600c['den_perc_sport_other'].isna()], 'den_perc_sport_other', '% Sport Facility')\n",
    "make_plot(ax[2][2], df900c[~df900c['den_perc_sport_other'].isna()], 'den_perc_sport_other', '')\n",
    "\n",
    "make_plot(ax[3][0], df300c[~df300c['den_perc_office'].isna()], 'den_perc_office', '')\n",
    "make_plot(ax[3][1], df600c[~df600c['den_perc_office'].isna()], 'den_perc_office', '% Office')\n",
    "make_plot(ax[3][2], df900c[~df900c['den_perc_office'].isna()], 'den_perc_office', '')\n",
    "\n",
    "make_plot(ax[4][0], df300c[~df300c['den_perc_parking'].isna()], 'den_perc_parking', '')\n",
    "make_plot(ax[4][1], df600c[~df600c['den_perc_parking'].isna()], 'den_perc_parking', '% Parking')\n",
    "make_plot(ax[4][2], df900c[~df900c['den_perc_parking'].isna()], 'den_perc_parking', '')\n",
    "\n",
    "fig.tight_layout(pad=0)\n",
    "#plt.grid(False)\n",
    "\n",
    "plt.savefig(r\"C:\\Users\\katul\\OneDrive\\Escritorio\\density_factors_5.jpg\")\n",
    "\n",
    "plt.show()"
   ]
  },
  {
   "cell_type": "code",
   "execution_count": null,
   "metadata": {},
   "outputs": [],
   "source": [
    "\n",
    "fig, ax = plt.subplots(5,3,figsize=(8.5,11),sharey=True,sharex=True)\n",
    "fig.suptitle('\\n',**csfont, fontweight=\"bold\",y=1) # Title\n",
    "\n",
    "make_plot(ax[0][0], df300c[~df300c['den_perc_industrial'].isna()], 'den_perc_industrial', '300 m. Threshold\\n')\n",
    "make_plot(ax[0][1], df600c[~df600c['den_perc_industrial'].isna()], 'den_perc_industrial', '600 m. Threshold\\n % Industrial')\n",
    "make_plot(ax[0][2], df900c[~df900c['den_perc_industrial'].isna()], 'den_perc_industrial', '900 m. Threshold\\n')\n",
    "\n",
    "make_plot(ax[1][0], df300c[~df300c['den_perc_storage'].isna()], 'den_perc_storage', '')\n",
    "make_plot(ax[1][1], df600c[~df600c['den_perc_storage'].isna()], 'den_perc_storage', '% Storage')\n",
    "make_plot(ax[1][2], df900c[~df900c['den_perc_storage'].isna()], 'den_perc_storage', '')\n",
    "\n",
    "for x in (2, 3,4):\n",
    "    for y in (0,1,2):\n",
    "        ax[x][y].yaxis.set_label_text(\"\")\n",
    "        ax[x][y].set_xlabel('') \n",
    "        ax[x][y].axis('off')\n",
    "\n",
    "fig.tight_layout(pad=0.1)\n",
    "\n",
    "plt.savefig(r\"C:\\Users\\katul\\OneDrive\\Escritorio\\density_factors_6.jpg\")\n",
    "\n",
    "plt.show()\n",
    "\n"
   ]
  }
 ],
 "metadata": {
  "kernelspec": {
   "display_name": "env",
   "language": "python",
   "name": "python3"
  },
  "language_info": {
   "codemirror_mode": {
    "name": "ipython",
    "version": 3
   },
   "file_extension": ".py",
   "mimetype": "text/x-python",
   "name": "python",
   "nbconvert_exporter": "python",
   "pygments_lexer": "ipython3",
   "version": "3.12.5"
  }
 },
 "nbformat": 4,
 "nbformat_minor": 2
}
