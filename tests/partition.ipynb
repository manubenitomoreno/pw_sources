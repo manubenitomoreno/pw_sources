{
 "cells": [
  {
   "cell_type": "code",
   "execution_count": 1,
   "metadata": {},
   "outputs": [],
   "source": [
    "import pandas as pd\n",
    "from shapely.wkt import loads\n",
    "import geopandas as gpd\n",
    "from shapely.geometry import Point, Polygon\n",
    "\n",
    "import openrouteservice as ors\n",
    "\n",
    "from loguru import logger\n",
    "\n",
    "from tqdm import tqdm\n",
    "\n",
    "import json\n",
    "\n",
    "from datetime import date, datetime\n",
    "\n",
    "from ast import literal_eval\n",
    "\n",
    "import itertools\n"
   ]
  },
  {
   "cell_type": "code",
   "execution_count": 2,
   "metadata": {},
   "outputs": [
    {
     "name": "stderr",
     "output_type": "stream",
     "text": [
      "<>:2: SyntaxWarning: invalid escape sequence '\\M'\n",
      "<>:2: SyntaxWarning: invalid escape sequence '\\M'\n",
      "C:\\Users\\katul\\AppData\\Local\\Temp\\ipykernel_2756\\3793340662.py:2: SyntaxWarning: invalid escape sequence '\\M'\n",
      "  path = \"G:\\Mi unidad\\walknet_datalake\"\n"
     ]
    }
   ],
   "source": [
    "network = 'amm_network'\n",
    "path = \"G:\\Mi unidad\\walknet_datalake\""
   ]
  },
  {
   "cell_type": "code",
   "execution_count": 3,
   "metadata": {},
   "outputs": [],
   "source": [
    "def storage_file(path,network):\n",
    "    # Open json file and read into dict\n",
    "    with open(r\"{path}\\sources\\ors\\level0\\level0_{network}.json\".format(path = path, network=network),) as f:\n",
    "        data = json.load(f)\n",
    "        data = {datetime.strptime(date, '%d/%m/%Y').date():{literal_eval(c): loads(p) for c,p in calls.items()} for date, calls in data.items()}\n",
    "        return data"
   ]
  },
  {
   "cell_type": "code",
   "execution_count": 4,
   "metadata": {},
   "outputs": [],
   "source": [
    "def make_measure_points(network, path, round_to = 2):\n",
    "    nodes = pd.read_csv(\n",
    "        r\"{path}\\networks\\{network}\\nodes.csv\".format(path = path, network=network),\n",
    "        sep=\";\")\n",
    "    nodes['geometry'] = nodes['geometry'].apply(lambda x: loads(x))\n",
    "    nodes = gpd.GeoDataFrame(nodes, geometry = 'geometry', crs=25830)\n",
    "    nodes = nodes.to_crs(4326)\n",
    "\n",
    "    round_nodes = gpd.GeoDataFrame(\n",
    "        nodes,\n",
    "        geometry = nodes.apply(lambda x: Point((round(x['geometry'].x,round_to),round(x['geometry'].y,round_to))),axis=1),\n",
    "        crs = 4326)\n",
    "    \n",
    "    coords = tuple(round_nodes.apply(lambda row: (row['geometry'].x , row['geometry'].y),axis=1).unique())\n",
    "\n",
    "    return coords\n",
    "\n",
    "def chunker(seq, size):\n",
    "    return (seq[pos:pos + size] for pos in range(0, len(seq), size))"
   ]
  },
  {
   "cell_type": "code",
   "execution_count": 5,
   "metadata": {},
   "outputs": [],
   "source": [
    "def get_isochrones(data, coords):\n",
    "    \n",
    "    client = ors.Client(key='5b3ce3597851110001cf6248e310e50239484390adc4935f51817f90')\n",
    "    processed_coords = tuple(set(list(itertools.chain.from_iterable([list(v.keys()) for v in data.values()]))))\n",
    "    \n",
    "    if date.today() in data.keys():\n",
    "        limit = 500 - len(data[date.today()])\n",
    "    else: \n",
    "        limit = 500\n",
    "        data[date.today()] = {}\n",
    "\n",
    "    coords = tuple(c for c in coords if not c in processed_coords)[0:limit]\n",
    "\n",
    "    for chunk in tqdm(chunker(coords,5)):\n",
    "        \n",
    "        isochrone = ors.isochrones.isochrones(\n",
    "            client,\n",
    "            chunk,\n",
    "            profile='driving-car',\n",
    "            range_type='time',\n",
    "            range=[30],\n",
    "            units=None,\n",
    "            location_type=None,\n",
    "            smoothing=0.2,\n",
    "            attributes=None,\n",
    "            validate=True,\n",
    "            dry_run=None)['features']\n",
    "\n",
    "        for i,feature in enumerate(isochrone):\n",
    "            #print(f\"Processing feature {feature}\")\n",
    "            \n",
    "            if feature['geometry']['type'] == 'Polygon':\n",
    "                data[date.today()].update({chunk[i] : Polygon(feature['geometry']['coordinates'][0])})\n",
    "    return data"
   ]
  },
  {
   "cell_type": "code",
   "execution_count": null,
   "metadata": {},
   "outputs": [],
   "source": [
    "def dump_data(path, network, data):\n",
    "    processed_data = json.dumps({date.strftime('%d/%m/%Y'):{f\"({k[0]},{k[1]})\":v.wkt for k,v in iso.items()} for date, iso in data.items()})\n",
    "    with open(r\"{path}\\sources\\ors\\level0\\level0_{network}.json\".format(path = path, network=network), 'w') as f:\n",
    "        json.dump(processed_data, f)"
   ]
  },
  {
   "cell_type": "code",
   "execution_count": 6,
   "metadata": {},
   "outputs": [],
   "source": [
    "processed = storage_file(path, network)\n",
    "coords = make_measure_points(network, path, round_to = 2)\n",
    "today_processed = get_isochrones(processed, coords)\n",
    "dump_data(path, network, today_processed)\n",
    "\n"
   ]
  },
  {
   "cell_type": "code",
   "execution_count": 7,
   "metadata": {},
   "outputs": [
    {
     "name": "stderr",
     "output_type": "stream",
     "text": [
      "19it [00:02, 13.61it/s]c:\\Documents\\Github\\pw_sources\\env\\Lib\\site-packages\\openrouteservice\\client.py:211: UserWarning: Rate limit exceeded. Retrying for the 1st time.\n",
      "  warnings.warn('Rate limit exceeded. Retrying for the {0}{1} time.'.format(retry_counter + 1,\n",
      "c:\\Documents\\Github\\pw_sources\\env\\Lib\\site-packages\\openrouteservice\\client.py:211: UserWarning: Rate limit exceeded. Retrying for the 2nd time.\n",
      "  warnings.warn('Rate limit exceeded. Retrying for the {0}{1} time.'.format(retry_counter + 1,\n",
      "c:\\Documents\\Github\\pw_sources\\env\\Lib\\site-packages\\openrouteservice\\client.py:211: UserWarning: Rate limit exceeded. Retrying for the 3rd time.\n",
      "  warnings.warn('Rate limit exceeded. Retrying for the {0}{1} time.'.format(retry_counter + 1,\n",
      "c:\\Documents\\Github\\pw_sources\\env\\Lib\\site-packages\\openrouteservice\\client.py:211: UserWarning: Rate limit exceeded. Retrying for the 4th time.\n",
      "  warnings.warn('Rate limit exceeded. Retrying for the {0}{1} time.'.format(retry_counter + 1,\n",
      "c:\\Documents\\Github\\pw_sources\\env\\Lib\\site-packages\\openrouteservice\\client.py:211: UserWarning: Rate limit exceeded. Retrying for the 5th time.\n",
      "  warnings.warn('Rate limit exceeded. Retrying for the {0}{1} time.'.format(retry_counter + 1,\n",
      "c:\\Documents\\Github\\pw_sources\\env\\Lib\\site-packages\\openrouteservice\\client.py:211: UserWarning: Rate limit exceeded. Retrying for the 6th time.\n",
      "  warnings.warn('Rate limit exceeded. Retrying for the {0}{1} time.'.format(retry_counter + 1,\n",
      "c:\\Documents\\Github\\pw_sources\\env\\Lib\\site-packages\\openrouteservice\\client.py:211: UserWarning: Rate limit exceeded. Retrying for the 7th time.\n",
      "  warnings.warn('Rate limit exceeded. Retrying for the {0}{1} time.'.format(retry_counter + 1,\n",
      "19it [00:20, 13.61it/s]c:\\Documents\\Github\\pw_sources\\env\\Lib\\site-packages\\openrouteservice\\client.py:211: UserWarning: Rate limit exceeded. Retrying for the 8th time.\n",
      "  warnings.warn('Rate limit exceeded. Retrying for the {0}{1} time.'.format(retry_counter + 1,\n",
      "c:\\Documents\\Github\\pw_sources\\env\\Lib\\site-packages\\openrouteservice\\client.py:211: UserWarning: Rate limit exceeded. Retrying for the 9th time.\n",
      "  warnings.warn('Rate limit exceeded. Retrying for the {0}{1} time.'.format(retry_counter + 1,\n",
      "100it [06:12,  3.72s/it]\n"
     ]
    }
   ],
   "source": []
  },
  {
   "cell_type": "code",
   "execution_count": 19,
   "metadata": {},
   "outputs": [],
   "source": []
  },
  {
   "cell_type": "code",
   "execution_count": 21,
   "metadata": {},
   "outputs": [],
   "source": []
  }
 ],
 "metadata": {
  "kernelspec": {
   "display_name": "env",
   "language": "python",
   "name": "python3"
  },
  "language_info": {
   "codemirror_mode": {
    "name": "ipython",
    "version": 3
   },
   "file_extension": ".py",
   "mimetype": "text/x-python",
   "name": "python",
   "nbconvert_exporter": "python",
   "pygments_lexer": "ipython3",
   "version": "3.12.5"
  }
 },
 "nbformat": 4,
 "nbformat_minor": 2
}
