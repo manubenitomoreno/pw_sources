{
 "cells": [
  {
   "cell_type": "code",
   "execution_count": 12,
   "metadata": {},
   "outputs": [],
   "source": [
    "import os \n",
    "import pandas as pd\n",
    "import geopandas as gpd\n",
    "from shapely.wkt import loads\n",
    "data = {}\n",
    "path = r\"G:\\Mi unidad\\walknet_datalake\\sources\\osm\\level2\\_old\"\n",
    "for f in os.listdir(path):\n",
    "    if f.endswith(\"polygon.csv\"):\n",
    "        try:\n",
    "            d = pd.read_csv(os.path.join(path,f),sep=\";\")\n",
    "            d = d[d['category'] == 'land use - park']\n",
    "            d.geometry = d.geometry.apply(loads)\n",
    "            d = gpd.GeoDataFrame(d,geometry = 'geometry',crs = 25830)\n",
    "            d['area_ha'] = round((d['geometry'].area) / 100000, 0)\n",
    "            #print(d.sort_values(by='area_ha'))\n",
    "            #acho\n",
    "            f = f.split(\"_\")[2]\n",
    "            data.update({f:d})\n",
    "        except Exception as e:\n",
    "            \n",
    "            print(e, f)\n",
    "            pass"
   ]
  },
  {
   "cell_type": "code",
   "execution_count": 13,
   "metadata": {},
   "outputs": [],
   "source": [
    "data = pd.concat(data.values())\n",
    "#data = data[data['area_ha']>0]\n",
    "data['class'] = \"S\"\n",
    "data.loc[data['area_ha']>=2,'class'] = \"M\"\n",
    "data.loc[data['area_ha']>=20,'class'] = \"L\"\n",
    "#data.to_file(r\"C:\\Users\\katul\\Downloads\\test_parks_area.gpkg\",driver=\"GPKG\")"
   ]
  },
  {
   "cell_type": "code",
   "execution_count": 14,
   "metadata": {},
   "outputs": [],
   "source": [
    "from shapely.geometry import Point\n",
    "\n",
    "# Function to explode polygons into vertices\n",
    "def extract_vertices(gdf):\n",
    "    rows = []\n",
    "    \n",
    "    # Iterate over each row in the GeoDataFrame\n",
    "    for idx, row in gdf.iterrows():\n",
    "        geom = row.geometry\n",
    "        \n",
    "        # Check if it's a polygon or a multipolygon\n",
    "        if geom.type == 'Polygon':\n",
    "            # Extract exterior coordinates\n",
    "            vertices = list(geom.exterior.coords)\n",
    "        elif geom.type == 'MultiPolygon':\n",
    "            vertices = []\n",
    "            for poly in geom:\n",
    "                vertices.extend(list(poly.exterior.coords))\n",
    "        else:\n",
    "            continue\n",
    "        \n",
    "        # Create a new row for each vertex\n",
    "        for vertex in vertices:\n",
    "            new_row = row.copy()  # Copy the original attributes\n",
    "            new_row.geometry = Point(vertex)  # Replace geometry with vertex\n",
    "            rows.append(new_row)\n",
    "    \n",
    "    # Create a new GeoDataFrame with the exploded vertices\n",
    "    vertices_gdf = gpd.GeoDataFrame(rows, crs=gdf.crs)\n",
    "    return vertices_gdf\n",
    "\n",
    "# Example usage\n",
    "# gdf is your original GeoDataFrame with polygons\n",
    "\n"
   ]
  },
  {
   "cell_type": "code",
   "execution_count": 15,
   "metadata": {},
   "outputs": [
    {
     "name": "stdout",
     "output_type": "stream",
     "text": [
      "Original polygons are 4958\n",
      "Simplified polygons are 4958\n"
     ]
    }
   ],
   "source": [
    "def simplify_geometries(gdf, tolerance):\n",
    "    # Apply the simplify method to each geometry\n",
    "    gdf['geometry'] = gdf.geometry.simplify(tolerance, preserve_topology=True)\n",
    "    return gdf\n",
    "\n",
    "# Example usage\n",
    "tolerance = 50  # Adjust the tolerance based on your specific needs\n",
    "print(f\"Original polygons are {len(data)}\")\n",
    "simplified_gdf = simplify_geometries(data, tolerance)\n",
    "print(f\"Simplified polygons are {len(simplified_gdf)}\")"
   ]
  },
  {
   "cell_type": "code",
   "execution_count": 16,
   "metadata": {},
   "outputs": [
    {
     "name": "stderr",
     "output_type": "stream",
     "text": [
      "C:\\Users\\katul\\AppData\\Local\\Temp\\ipykernel_8404\\270780628.py:12: ShapelyDeprecationWarning: The 'type' attribute is deprecated, and will be removed in the future. You can use the 'geom_type' attribute instead.\n",
      "  if geom.type == 'Polygon':\n"
     ]
    },
    {
     "name": "stdout",
     "output_type": "stream",
     "text": [
      "Original vertices up to 34602\n",
      "Simplified vertices up to 34602\n"
     ]
    }
   ],
   "source": [
    "print(f\"Original vertices up to {len(extract_vertices(data))}\")\n",
    "vertices_gdf = extract_vertices(simplified_gdf)\n",
    "print(f\"Simplified vertices up to {len(vertices_gdf)}\")"
   ]
  },
  {
   "cell_type": "code",
   "execution_count": 6,
   "metadata": {},
   "outputs": [],
   "source": []
  },
  {
   "cell_type": "code",
   "execution_count": 17,
   "metadata": {},
   "outputs": [
    {
     "data": {
      "text/plain": [
       "array([[<Axes: title={'center': 'area_ha'}>]], dtype=object)"
      ]
     },
     "execution_count": 17,
     "metadata": {},
     "output_type": "execute_result"
    },
    {
     "data": {
      "image/png": "[encoded data removed]",
      "text/plain": [
       "<Figure size 640x480 with 1 Axes>"
      ]
     },
     "metadata": {},
     "output_type": "display_data"
    }
   ],
   "source": [
    "data.hist('area_ha',bins=50)"
   ]
  },
  {
   "cell_type": "code",
   "execution_count": 18,
   "metadata": {},
   "outputs": [
    {
     "data": {
      "text/html": [
       "<div>\n",
       "<style scoped>\n",
       "    .dataframe tbody tr th:only-of-type {\n",
       "        vertical-align: middle;\n",
       "    }\n",
       "\n",
       "    .dataframe tbody tr th {\n",
       "        vertical-align: top;\n",
       "    }\n",
       "\n",
       "    .dataframe thead th {\n",
       "        text-align: right;\n",
       "    }\n",
       "</style>\n",
       "<table border=\"1\" class=\"dataframe\">\n",
       "  <thead>\n",
       "    <tr style=\"text-align: right;\">\n",
       "      <th></th>\n",
       "      <th>id</th>\n",
       "      <th>id_class</th>\n",
       "      <th>category</th>\n",
       "      <th>provider</th>\n",
       "      <th>data</th>\n",
       "      <th>geometry</th>\n",
       "    </tr>\n",
       "  </thead>\n",
       "  <tbody>\n",
       "    <tr>\n",
       "      <th>0</th>\n",
       "      <td>221-1184528542-0-S</td>\n",
       "      <td>aois</td>\n",
       "      <td>land use - park</td>\n",
       "      <td>2</td>\n",
       "      <td>{'type': 'park', 'area': 5413.516251848058}</td>\n",
       "      <td>POINT (443704.055 4485725.716)</td>\n",
       "    </tr>\n",
       "    <tr>\n",
       "      <th>0</th>\n",
       "      <td>221-1184528542-0-S</td>\n",
       "      <td>aois</td>\n",
       "      <td>land use - park</td>\n",
       "      <td>2</td>\n",
       "      <td>{'type': 'park', 'area': 5413.516251848058}</td>\n",
       "      <td>POINT (443674.417 4485828.4)</td>\n",
       "    </tr>\n",
       "    <tr>\n",
       "      <th>0</th>\n",
       "      <td>221-1184528542-0-S</td>\n",
       "      <td>aois</td>\n",
       "      <td>land use - park</td>\n",
       "      <td>2</td>\n",
       "      <td>{'type': 'park', 'area': 5413.516251848058}</td>\n",
       "      <td>POINT (443755.343 4485674.266)</td>\n",
       "    </tr>\n",
       "    <tr>\n",
       "      <th>0</th>\n",
       "      <td>221-1184528542-0-S</td>\n",
       "      <td>aois</td>\n",
       "      <td>land use - park</td>\n",
       "      <td>2</td>\n",
       "      <td>{'type': 'park', 'area': 5413.516251848058}</td>\n",
       "      <td>POINT (443832.693 4485697.551)</td>\n",
       "    </tr>\n",
       "    <tr>\n",
       "      <th>0</th>\n",
       "      <td>221-1184528542-0-S</td>\n",
       "      <td>aois</td>\n",
       "      <td>land use - park</td>\n",
       "      <td>2</td>\n",
       "      <td>{'type': 'park', 'area': 5413.516251848058}</td>\n",
       "      <td>POINT (443756.666 4485669.927)</td>\n",
       "    </tr>\n",
       "    <tr>\n",
       "      <th>...</th>\n",
       "      <td>...</td>\n",
       "      <td>...</td>\n",
       "      <td>...</td>\n",
       "      <td>...</td>\n",
       "      <td>...</td>\n",
       "      <td>...</td>\n",
       "    </tr>\n",
       "    <tr>\n",
       "      <th>34</th>\n",
       "      <td>2224-585688029-34-S</td>\n",
       "      <td>aois</td>\n",
       "      <td>land use - park</td>\n",
       "      <td>2</td>\n",
       "      <td>{'type': 'park', 'area': 4273.505419756524}</td>\n",
       "      <td>POINT (459246.134 4469891.33)</td>\n",
       "    </tr>\n",
       "    <tr>\n",
       "      <th>34</th>\n",
       "      <td>2224-585688029-34-S</td>\n",
       "      <td>aois</td>\n",
       "      <td>land use - park</td>\n",
       "      <td>2</td>\n",
       "      <td>{'type': 'park', 'area': 4273.505419756524}</td>\n",
       "      <td>POINT (459203.127 4469881.573)</td>\n",
       "    </tr>\n",
       "    <tr>\n",
       "      <th>34</th>\n",
       "      <td>2224-585688029-34-S</td>\n",
       "      <td>aois</td>\n",
       "      <td>land use - park</td>\n",
       "      <td>2</td>\n",
       "      <td>{'type': 'park', 'area': 4273.505419756524}</td>\n",
       "      <td>POINT (459180.452 4469973.606)</td>\n",
       "    </tr>\n",
       "    <tr>\n",
       "      <th>34</th>\n",
       "      <td>2224-585688029-34-S</td>\n",
       "      <td>aois</td>\n",
       "      <td>land use - park</td>\n",
       "      <td>2</td>\n",
       "      <td>{'type': 'park', 'area': 4273.505419756524}</td>\n",
       "      <td>POINT (459222.378 4469987.586)</td>\n",
       "    </tr>\n",
       "    <tr>\n",
       "      <th>34</th>\n",
       "      <td>2224-585688029-34-S</td>\n",
       "      <td>aois</td>\n",
       "      <td>land use - park</td>\n",
       "      <td>2</td>\n",
       "      <td>{'type': 'park', 'area': 4273.505419756524}</td>\n",
       "      <td>POINT (459246.134 4469891.33)</td>\n",
       "    </tr>\n",
       "  </tbody>\n",
       "</table>\n",
       "<p>34602 rows × 6 columns</p>\n",
       "</div>"
      ],
      "text/plain": [
       "                     id id_class         category  provider  \\\n",
       "0    221-1184528542-0-S     aois  land use - park         2   \n",
       "0    221-1184528542-0-S     aois  land use - park         2   \n",
       "0    221-1184528542-0-S     aois  land use - park         2   \n",
       "0    221-1184528542-0-S     aois  land use - park         2   \n",
       "0    221-1184528542-0-S     aois  land use - park         2   \n",
       "..                  ...      ...              ...       ...   \n",
       "34  2224-585688029-34-S     aois  land use - park         2   \n",
       "34  2224-585688029-34-S     aois  land use - park         2   \n",
       "34  2224-585688029-34-S     aois  land use - park         2   \n",
       "34  2224-585688029-34-S     aois  land use - park         2   \n",
       "34  2224-585688029-34-S     aois  land use - park         2   \n",
       "\n",
       "                                           data  \\\n",
       "0   {'type': 'park', 'area': 5413.516251848058}   \n",
       "0   {'type': 'park', 'area': 5413.516251848058}   \n",
       "0   {'type': 'park', 'area': 5413.516251848058}   \n",
       "0   {'type': 'park', 'area': 5413.516251848058}   \n",
       "0   {'type': 'park', 'area': 5413.516251848058}   \n",
       "..                                          ...   \n",
       "34  {'type': 'park', 'area': 4273.505419756524}   \n",
       "34  {'type': 'park', 'area': 4273.505419756524}   \n",
       "34  {'type': 'park', 'area': 4273.505419756524}   \n",
       "34  {'type': 'park', 'area': 4273.505419756524}   \n",
       "34  {'type': 'park', 'area': 4273.505419756524}   \n",
       "\n",
       "                          geometry  \n",
       "0   POINT (443704.055 4485725.716)  \n",
       "0     POINT (443674.417 4485828.4)  \n",
       "0   POINT (443755.343 4485674.266)  \n",
       "0   POINT (443832.693 4485697.551)  \n",
       "0   POINT (443756.666 4485669.927)  \n",
       "..                             ...  \n",
       "34   POINT (459246.134 4469891.33)  \n",
       "34  POINT (459203.127 4469881.573)  \n",
       "34  POINT (459180.452 4469973.606)  \n",
       "34  POINT (459222.378 4469987.586)  \n",
       "34   POINT (459246.134 4469891.33)  \n",
       "\n",
       "[34602 rows x 6 columns]"
      ]
     },
     "execution_count": 18,
     "metadata": {},
     "output_type": "execute_result"
    }
   ],
   "source": [
    "vertices_gdf['id'] = vertices_gdf['id']+\"-\"+vertices_gdf['class']\n",
    "vertices_gdf.drop(columns=['area_ha','class'],inplace=True)\n",
    "vertices_gdf"
   ]
  },
  {
   "cell_type": "code",
   "execution_count": 20,
   "metadata": {},
   "outputs": [],
   "source": [
    "vertices_gdf = vertices_gdf.reset_index(drop=True)\n",
    "vertices_gdf['idx'] = vertices_gdf.index\n",
    "vertices_gdf['id'] = vertices_gdf['idx'].astype(str)+\"-\"+vertices_gdf['id']"
   ]
  },
  {
   "cell_type": "code",
   "execution_count": null,
   "metadata": {},
   "outputs": [],
   "source": []
  },
  {
   "cell_type": "code",
   "execution_count": 21,
   "metadata": {},
   "outputs": [],
   "source": [
    "vertices_gdf.to_csv(r\"G:\\Mi unidad\\walknet_datalake\\sources\\osm\\level2\\level2_osm_all_point.csv\",sep=\";\",index=False)\n"
   ]
  }
 ],
 "metadata": {
  "kernelspec": {
   "display_name": "env",
   "language": "python",
   "name": "python3"
  },
  "language_info": {
   "codemirror_mode": {
    "name": "ipython",
    "version": 3
   },
   "file_extension": ".py",
   "mimetype": "text/x-python",
   "name": "python",
   "nbconvert_exporter": "python",
   "pygments_lexer": "ipython3",
   "version": "3.12.5"
  }
 },
 "nbformat": 4,
 "nbformat_minor": 2
}
